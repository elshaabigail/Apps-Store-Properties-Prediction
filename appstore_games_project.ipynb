{
  "cells": [
    {
      "cell_type": "code",
      "execution_count": null,
      "metadata": {
        "id": "Ymp5NyYzrUKf"
      },
      "outputs": [],
      "source": [
        "# Import modules\n",
        "import pandas as pd\n",
        "from matplotlib import pyplot\n",
        "import matplotlib.pyplot as plt\n",
        "import seaborn as sns\n",
        "import numpy as np\n",
        "from datetime import datetime\n",
        "import itertools\n",
        "from itertools import combinations\n",
        "from collections import Counter\n",
        "from sklearn.model_selection import train_test_split\n",
        "from sklearn.preprocessing import MinMaxScaler\n",
        "from sklearn.linear_model import LinearRegression\n",
        "from sklearn.ensemble import RandomForestClassifier\n",
        "from sklearn.metrics import accuracy_score"
      ]
    },
    {
      "cell_type": "code",
      "execution_count": null,
      "metadata": {
        "id": "NqMwSVnUrYZ1"
      },
      "outputs": [],
      "source": [
        "# Code to read csv file into Colaboratory:\n",
        "!pip install -U -q PyDrive\n",
        "from pydrive.auth import GoogleAuth\n",
        "from pydrive.drive import GoogleDrive\n",
        "from google.colab import auth\n",
        "from oauth2client.client import GoogleCredentials\n",
        "# Authenticate and create the PyDrive client.\n",
        "auth.authenticate_user()\n",
        "gauth = GoogleAuth()\n",
        "gauth.credentials = GoogleCredentials.get_application_default()\n",
        "drive = GoogleDrive(gauth)"
      ]
    },
    {
      "cell_type": "code",
      "execution_count": null,
      "metadata": {
        "id": "pxfE-fPdrauU"
      },
      "outputs": [],
      "source": [
        "# Provide the link to share the file/folder located on Google Drive.\n",
        "link ='https://drive.google.com/file/d/1jRhCexfgTfDRAuFaJ2miZMdHbqxTV0Ca/view?usp=sharing'\n",
        "# Extract the ID of the file\n",
        "id = link.split(\"/\")[-2]\n",
        "# Create and load the dataset\n",
        "downloaded = drive.CreateFile({'id':id})\n",
        "downloaded.GetContentFile('appstore_games.csv') "
      ]
    },
    {
      "cell_type": "code",
      "execution_count": null,
      "metadata": {
        "colab": {
          "base_uri": "https://localhost:8080/",
          "height": 721
        },
        "id": "GpznblP1rUKg",
        "outputId": "de39ac5c-0520-4ea6-bdd5-2a15bbb80c9f"
      },
      "outputs": [
        {
          "output_type": "display_data",
          "data": {
            "text/plain": [
              "                                                 URL         ID  \\\n",
              "0   https://apps.apple.com/us/app/sudoku/id284921427  284921427   \n",
              "1  https://apps.apple.com/us/app/reversi/id284926400  284926400   \n",
              "2  https://apps.apple.com/us/app/morocco/id284946595  284946595   \n",
              "3  https://apps.apple.com/us/app/sudoku-free/id28...  285755462   \n",
              "4  https://apps.apple.com/us/app/senet-deluxe/id2...  285831220   \n",
              "\n",
              "            Name Subtitle                                           Icon URL  \\\n",
              "0         Sudoku      NaN  https://is2-ssl.mzstatic.com/image/thumb/Purpl...   \n",
              "1        Reversi      NaN  https://is4-ssl.mzstatic.com/image/thumb/Purpl...   \n",
              "2        Morocco      NaN  https://is5-ssl.mzstatic.com/image/thumb/Purpl...   \n",
              "3  Sudoku (Free)      NaN  https://is3-ssl.mzstatic.com/image/thumb/Purpl...   \n",
              "4   Senet Deluxe      NaN  https://is1-ssl.mzstatic.com/image/thumb/Purpl...   \n",
              "\n",
              "   Average User Rating  User Rating Count  Price In-app Purchases  \\\n",
              "0                  4.0             3553.0   2.99              NaN   \n",
              "1                  3.5              284.0   1.99              NaN   \n",
              "2                  3.0             8376.0   0.00              NaN   \n",
              "3                  3.5           190394.0   0.00              NaN   \n",
              "4                  3.5               28.0   2.99              NaN   \n",
              "\n",
              "                                         Description  \\\n",
              "0  Join over 21,000,000 of our fans and download ...   \n",
              "1  The classic game of Reversi, also known as Oth...   \n",
              "2  Play the classic strategy game Othello (also k...   \n",
              "3  Top 100 free app for over a year.\\nRated \"Best...   \n",
              "4  \"Senet Deluxe - The Ancient Game of Life and A...   \n",
              "\n",
              "                  Developer Age Rating  \\\n",
              "0  Mighty Mighty Good Games         4+   \n",
              "1          Kiss The Machine         4+   \n",
              "2               Bayou Games         4+   \n",
              "3  Mighty Mighty Good Games         4+   \n",
              "4           RoGame Software         4+   \n",
              "\n",
              "                                           Languages        Size  \\\n",
              "0  DA, NL, EN, FI, FR, DE, IT, JA, KO, NB, PL, PT...  15853568.0   \n",
              "1                                                 EN  12328960.0   \n",
              "2                                                 EN    674816.0   \n",
              "3  DA, NL, EN, FI, FR, DE, IT, JA, KO, NB, PL, PT...  21552128.0   \n",
              "4  DA, NL, EN, FR, DE, EL, IT, JA, KO, NO, PT, RU...  34689024.0   \n",
              "\n",
              "  Primary Genre                             Genres Original Release Date  \\\n",
              "0         Games            Games, Strategy, Puzzle            11/07/2008   \n",
              "1         Games             Games, Strategy, Board            11/07/2008   \n",
              "2         Games             Games, Board, Strategy            11/07/2008   \n",
              "3         Games            Games, Strategy, Puzzle            23/07/2008   \n",
              "4         Games  Games, Strategy, Board, Education            18/07/2008   \n",
              "\n",
              "  Current Version Release Date  \n",
              "0                   30/05/2017  \n",
              "1                   17/05/2018  \n",
              "2                    5/09/2017  \n",
              "3                   30/05/2017  \n",
              "4                   22/07/2018  "
            ],
            "text/html": [
              "\n",
              "  <div id=\"df-051524ac-a069-415a-80fe-23d284f893b5\">\n",
              "    <div class=\"colab-df-container\">\n",
              "      <div>\n",
              "<style scoped>\n",
              "    .dataframe tbody tr th:only-of-type {\n",
              "        vertical-align: middle;\n",
              "    }\n",
              "\n",
              "    .dataframe tbody tr th {\n",
              "        vertical-align: top;\n",
              "    }\n",
              "\n",
              "    .dataframe thead th {\n",
              "        text-align: right;\n",
              "    }\n",
              "</style>\n",
              "<table border=\"1\" class=\"dataframe\">\n",
              "  <thead>\n",
              "    <tr style=\"text-align: right;\">\n",
              "      <th></th>\n",
              "      <th>URL</th>\n",
              "      <th>ID</th>\n",
              "      <th>Name</th>\n",
              "      <th>Subtitle</th>\n",
              "      <th>Icon URL</th>\n",
              "      <th>Average User Rating</th>\n",
              "      <th>User Rating Count</th>\n",
              "      <th>Price</th>\n",
              "      <th>In-app Purchases</th>\n",
              "      <th>Description</th>\n",
              "      <th>Developer</th>\n",
              "      <th>Age Rating</th>\n",
              "      <th>Languages</th>\n",
              "      <th>Size</th>\n",
              "      <th>Primary Genre</th>\n",
              "      <th>Genres</th>\n",
              "      <th>Original Release Date</th>\n",
              "      <th>Current Version Release Date</th>\n",
              "    </tr>\n",
              "  </thead>\n",
              "  <tbody>\n",
              "    <tr>\n",
              "      <th>0</th>\n",
              "      <td>https://apps.apple.com/us/app/sudoku/id284921427</td>\n",
              "      <td>284921427</td>\n",
              "      <td>Sudoku</td>\n",
              "      <td>NaN</td>\n",
              "      <td>https://is2-ssl.mzstatic.com/image/thumb/Purpl...</td>\n",
              "      <td>4.0</td>\n",
              "      <td>3553.0</td>\n",
              "      <td>2.99</td>\n",
              "      <td>NaN</td>\n",
              "      <td>Join over 21,000,000 of our fans and download ...</td>\n",
              "      <td>Mighty Mighty Good Games</td>\n",
              "      <td>4+</td>\n",
              "      <td>DA, NL, EN, FI, FR, DE, IT, JA, KO, NB, PL, PT...</td>\n",
              "      <td>15853568.0</td>\n",
              "      <td>Games</td>\n",
              "      <td>Games, Strategy, Puzzle</td>\n",
              "      <td>11/07/2008</td>\n",
              "      <td>30/05/2017</td>\n",
              "    </tr>\n",
              "    <tr>\n",
              "      <th>1</th>\n",
              "      <td>https://apps.apple.com/us/app/reversi/id284926400</td>\n",
              "      <td>284926400</td>\n",
              "      <td>Reversi</td>\n",
              "      <td>NaN</td>\n",
              "      <td>https://is4-ssl.mzstatic.com/image/thumb/Purpl...</td>\n",
              "      <td>3.5</td>\n",
              "      <td>284.0</td>\n",
              "      <td>1.99</td>\n",
              "      <td>NaN</td>\n",
              "      <td>The classic game of Reversi, also known as Oth...</td>\n",
              "      <td>Kiss The Machine</td>\n",
              "      <td>4+</td>\n",
              "      <td>EN</td>\n",
              "      <td>12328960.0</td>\n",
              "      <td>Games</td>\n",
              "      <td>Games, Strategy, Board</td>\n",
              "      <td>11/07/2008</td>\n",
              "      <td>17/05/2018</td>\n",
              "    </tr>\n",
              "    <tr>\n",
              "      <th>2</th>\n",
              "      <td>https://apps.apple.com/us/app/morocco/id284946595</td>\n",
              "      <td>284946595</td>\n",
              "      <td>Morocco</td>\n",
              "      <td>NaN</td>\n",
              "      <td>https://is5-ssl.mzstatic.com/image/thumb/Purpl...</td>\n",
              "      <td>3.0</td>\n",
              "      <td>8376.0</td>\n",
              "      <td>0.00</td>\n",
              "      <td>NaN</td>\n",
              "      <td>Play the classic strategy game Othello (also k...</td>\n",
              "      <td>Bayou Games</td>\n",
              "      <td>4+</td>\n",
              "      <td>EN</td>\n",
              "      <td>674816.0</td>\n",
              "      <td>Games</td>\n",
              "      <td>Games, Board, Strategy</td>\n",
              "      <td>11/07/2008</td>\n",
              "      <td>5/09/2017</td>\n",
              "    </tr>\n",
              "    <tr>\n",
              "      <th>3</th>\n",
              "      <td>https://apps.apple.com/us/app/sudoku-free/id28...</td>\n",
              "      <td>285755462</td>\n",
              "      <td>Sudoku (Free)</td>\n",
              "      <td>NaN</td>\n",
              "      <td>https://is3-ssl.mzstatic.com/image/thumb/Purpl...</td>\n",
              "      <td>3.5</td>\n",
              "      <td>190394.0</td>\n",
              "      <td>0.00</td>\n",
              "      <td>NaN</td>\n",
              "      <td>Top 100 free app for over a year.\\nRated \"Best...</td>\n",
              "      <td>Mighty Mighty Good Games</td>\n",
              "      <td>4+</td>\n",
              "      <td>DA, NL, EN, FI, FR, DE, IT, JA, KO, NB, PL, PT...</td>\n",
              "      <td>21552128.0</td>\n",
              "      <td>Games</td>\n",
              "      <td>Games, Strategy, Puzzle</td>\n",
              "      <td>23/07/2008</td>\n",
              "      <td>30/05/2017</td>\n",
              "    </tr>\n",
              "    <tr>\n",
              "      <th>4</th>\n",
              "      <td>https://apps.apple.com/us/app/senet-deluxe/id2...</td>\n",
              "      <td>285831220</td>\n",
              "      <td>Senet Deluxe</td>\n",
              "      <td>NaN</td>\n",
              "      <td>https://is1-ssl.mzstatic.com/image/thumb/Purpl...</td>\n",
              "      <td>3.5</td>\n",
              "      <td>28.0</td>\n",
              "      <td>2.99</td>\n",
              "      <td>NaN</td>\n",
              "      <td>\"Senet Deluxe - The Ancient Game of Life and A...</td>\n",
              "      <td>RoGame Software</td>\n",
              "      <td>4+</td>\n",
              "      <td>DA, NL, EN, FR, DE, EL, IT, JA, KO, NO, PT, RU...</td>\n",
              "      <td>34689024.0</td>\n",
              "      <td>Games</td>\n",
              "      <td>Games, Strategy, Board, Education</td>\n",
              "      <td>18/07/2008</td>\n",
              "      <td>22/07/2018</td>\n",
              "    </tr>\n",
              "  </tbody>\n",
              "</table>\n",
              "</div>\n",
              "      <button class=\"colab-df-convert\" onclick=\"convertToInteractive('df-051524ac-a069-415a-80fe-23d284f893b5')\"\n",
              "              title=\"Convert this dataframe to an interactive table.\"\n",
              "              style=\"display:none;\">\n",
              "        \n",
              "  <svg xmlns=\"http://www.w3.org/2000/svg\" height=\"24px\"viewBox=\"0 0 24 24\"\n",
              "       width=\"24px\">\n",
              "    <path d=\"M0 0h24v24H0V0z\" fill=\"none\"/>\n",
              "    <path d=\"M18.56 5.44l.94 2.06.94-2.06 2.06-.94-2.06-.94-.94-2.06-.94 2.06-2.06.94zm-11 1L8.5 8.5l.94-2.06 2.06-.94-2.06-.94L8.5 2.5l-.94 2.06-2.06.94zm10 10l.94 2.06.94-2.06 2.06-.94-2.06-.94-.94-2.06-.94 2.06-2.06.94z\"/><path d=\"M17.41 7.96l-1.37-1.37c-.4-.4-.92-.59-1.43-.59-.52 0-1.04.2-1.43.59L10.3 9.45l-7.72 7.72c-.78.78-.78 2.05 0 2.83L4 21.41c.39.39.9.59 1.41.59.51 0 1.02-.2 1.41-.59l7.78-7.78 2.81-2.81c.8-.78.8-2.07 0-2.86zM5.41 20L4 18.59l7.72-7.72 1.47 1.35L5.41 20z\"/>\n",
              "  </svg>\n",
              "      </button>\n",
              "      \n",
              "  <style>\n",
              "    .colab-df-container {\n",
              "      display:flex;\n",
              "      flex-wrap:wrap;\n",
              "      gap: 12px;\n",
              "    }\n",
              "\n",
              "    .colab-df-convert {\n",
              "      background-color: #E8F0FE;\n",
              "      border: none;\n",
              "      border-radius: 50%;\n",
              "      cursor: pointer;\n",
              "      display: none;\n",
              "      fill: #1967D2;\n",
              "      height: 32px;\n",
              "      padding: 0 0 0 0;\n",
              "      width: 32px;\n",
              "    }\n",
              "\n",
              "    .colab-df-convert:hover {\n",
              "      background-color: #E2EBFA;\n",
              "      box-shadow: 0px 1px 2px rgba(60, 64, 67, 0.3), 0px 1px 3px 1px rgba(60, 64, 67, 0.15);\n",
              "      fill: #174EA6;\n",
              "    }\n",
              "\n",
              "    [theme=dark] .colab-df-convert {\n",
              "      background-color: #3B4455;\n",
              "      fill: #D2E3FC;\n",
              "    }\n",
              "\n",
              "    [theme=dark] .colab-df-convert:hover {\n",
              "      background-color: #434B5C;\n",
              "      box-shadow: 0px 1px 3px 1px rgba(0, 0, 0, 0.15);\n",
              "      filter: drop-shadow(0px 1px 2px rgba(0, 0, 0, 0.3));\n",
              "      fill: #FFFFFF;\n",
              "    }\n",
              "  </style>\n",
              "\n",
              "      <script>\n",
              "        const buttonEl =\n",
              "          document.querySelector('#df-051524ac-a069-415a-80fe-23d284f893b5 button.colab-df-convert');\n",
              "        buttonEl.style.display =\n",
              "          google.colab.kernel.accessAllowed ? 'block' : 'none';\n",
              "\n",
              "        async function convertToInteractive(key) {\n",
              "          const element = document.querySelector('#df-051524ac-a069-415a-80fe-23d284f893b5');\n",
              "          const dataTable =\n",
              "            await google.colab.kernel.invokeFunction('convertToInteractive',\n",
              "                                                     [key], {});\n",
              "          if (!dataTable) return;\n",
              "\n",
              "          const docLinkHtml = 'Like what you see? Visit the ' +\n",
              "            '<a target=\"_blank\" href=https://colab.research.google.com/notebooks/data_table.ipynb>data table notebook</a>'\n",
              "            + ' to learn more about interactive tables.';\n",
              "          element.innerHTML = '';\n",
              "          dataTable['output_type'] = 'display_data';\n",
              "          await google.colab.output.renderOutput(dataTable, element);\n",
              "          const docLink = document.createElement('div');\n",
              "          docLink.innerHTML = docLinkHtml;\n",
              "          element.appendChild(docLink);\n",
              "        }\n",
              "      </script>\n",
              "    </div>\n",
              "  </div>\n",
              "  "
            ]
          },
          "metadata": {}
        }
      ],
      "source": [
        "# Load original dataset as dataframe\n",
        "df = pd.read_csv('appstore_games.csv')\n",
        "display(df.head())"
      ]
    },
    {
      "cell_type": "markdown",
      "metadata": {
        "id": "aIFmvog6GK0k"
      },
      "source": [
        "The data represents 17,007 rows and 18 columns sourced from [Kaggle](https://www.kaggle.com/datasets/tristan581/17k-apple-app-store-strategy-games). In doing this project, there are several things that we would like to know. Knowing these aspects would be of assistance for mobile app developers, because this would enable them to understand which areas they should prioritize or focus on for further development.\n",
        "\n",
        "As such, we can devise the following problem formulation:\n",
        "\n",
        "***\n",
        "\n",
        "### Problem Formulation\n",
        "\n",
        "1. What are the most popular genre combinations?\n",
        "2. What is the oldest app, and how many years/months?\n",
        "3. What is the app that receives the latest update?\n",
        "4. What variables affect app rating?\n",
        "5. How do microtransactions affect rating?\n",
        "6. What variables affect age restrictions? \n"
      ]
    },
    {
      "cell_type": "markdown",
      "metadata": {
        "id": "mW81DinbrUKh"
      },
      "source": [
        "## 1. Exploratory Data Analysis\n",
        "\n",
        "\n",
        "> To begin with, we engage in exploratory data analysis to gain an understanding of the data's appearance. The primary purpose of exploratory data analysis is to observe initial patterns and trends in the data by creating informative figures and graphs. EDA also aids in assessing data quality, examining data distribution, and detecting any outliers or missing values.\n",
        "\n"
      ]
    },
    {
      "cell_type": "markdown",
      "source": [
        "To gain an understanding of the data, we can start by displaying an overview of the dataframe using the `df.info()` function.\n"
      ],
      "metadata": {
        "id": "bg8fCqdZ9vB_"
      }
    },
    {
      "cell_type": "code",
      "source": [
        "print(df.info())"
      ],
      "metadata": {
        "colab": {
          "base_uri": "https://localhost:8080/"
        },
        "id": "NVarY0s47wgL",
        "outputId": "f2e55850-1548-48ff-8b69-e604237c9bf6"
      },
      "execution_count": null,
      "outputs": [
        {
          "output_type": "stream",
          "name": "stdout",
          "text": [
            "<class 'pandas.core.frame.DataFrame'>\n",
            "RangeIndex: 17007 entries, 0 to 17006\n",
            "Data columns (total 18 columns):\n",
            " #   Column                        Non-Null Count  Dtype  \n",
            "---  ------                        --------------  -----  \n",
            " 0   URL                           17007 non-null  object \n",
            " 1   ID                            17007 non-null  int64  \n",
            " 2   Name                          17007 non-null  object \n",
            " 3   Subtitle                      5261 non-null   object \n",
            " 4   Icon URL                      17007 non-null  object \n",
            " 5   Average User Rating           7561 non-null   float64\n",
            " 6   User Rating Count             7561 non-null   float64\n",
            " 7   Price                         16983 non-null  float64\n",
            " 8   In-app Purchases              7683 non-null   object \n",
            " 9   Description                   17007 non-null  object \n",
            " 10  Developer                     17007 non-null  object \n",
            " 11  Age Rating                    17007 non-null  object \n",
            " 12  Languages                     16947 non-null  object \n",
            " 13  Size                          17006 non-null  float64\n",
            " 14  Primary Genre                 17007 non-null  object \n",
            " 15  Genres                        17007 non-null  object \n",
            " 16  Original Release Date         17007 non-null  object \n",
            " 17  Current Version Release Date  17007 non-null  object \n",
            "dtypes: float64(4), int64(1), object(13)\n",
            "memory usage: 2.3+ MB\n",
            "None\n"
          ]
        }
      ]
    },
    {
      "cell_type": "markdown",
      "source": [
        "## 1.1. Description of the dataset column\n",
        "\n",
        "We provide descriptions for each column in the dataset. This ensures that we interpret the data accurately by understanding the meaning and representation of each column. Such understanding is vital for drawing meaningful conclusions and making accurate interpretations based on the dataset.\n",
        "*   `URL`: Uniform Resource Locator is a specific web address that allows users to access and retrieve information or resources from a server.\n",
        "*   `ID`: The unique identifier number that is associated with the app.\n",
        "*   `Name`: The title or name by which the app is commonly known.\n",
        "*   `Subtitle`: The secondary text displayed under the app's name\n",
        "*   `Icon URL`: The URL of the app's icon in JPG format, sized at 512px x 512px.\n",
        "*   `Average User Rating`: The average rating of the app from users, rounded to the nearest 0.5\n",
        "*   `User Rating Count`: The count of ratings received by the app from users. If the value is \"null\" means number of ratings is below 5.\n",
        "*   `Price`: The cost to download the app (USD)\n",
        "*   `In-app Purchases`: The pricing details for the various purchases that are available within the app.\n",
        "*   `Description`: A brief explanation or summary of the app's features, functionality, and purpose.\n",
        "*   `Developer`: The one who responsible for creating and developing the app.\n",
        "*   `Age Rating`: The recommended age at the app is considered appropriate for usage.\n",
        "*   `Languages`: The language codes that represent the languages in which the app is available.\n",
        "*   `Size`: The amount of storage space occupied by the app, measured in bytes.\n",
        "*   `Primary Genre`: The main or primary category or genre to which the app belongs.\n",
        "*   `Genres`: The app's classification based on primary functionality, purpose, or theme.\n",
        "*   `Original Release Date`: The date on which the app was made available to the public.\n",
        "*   `Current Version Release`: The most recent date on which the app received updates or enhancements.\n"
      ],
      "metadata": {
        "id": "3_Xd8Ud7bBXZ"
      }
    },
    {
      "cell_type": "markdown",
      "metadata": {
        "id": "e0iV_gb_rUKh"
      },
      "source": [
        "We adjust the dataset by eliminating duplicate data to ensure that there are no repeated entries in the dataset."
      ]
    },
    {
      "cell_type": "code",
      "execution_count": null,
      "metadata": {
        "id": "955yoLVTrUKi"
      },
      "outputs": [],
      "source": [
        "df = df.drop_duplicates()"
      ]
    },
    {
      "cell_type": "markdown",
      "metadata": {
        "id": "ejldeJXPrUKi"
      },
      "source": [
        "Next, we check if the dataset contain null value.\n",
        "Null Values can be replace with the data mean, median, mode or fill with some value."
      ]
    },
    {
      "cell_type": "code",
      "execution_count": null,
      "metadata": {
        "colab": {
          "base_uri": "https://localhost:8080/"
        },
        "id": "7RobSRJlrUKi",
        "outputId": "5141ad6c-f870-4d35-d911-2e065235f813"
      },
      "outputs": [
        {
          "output_type": "execute_result",
          "data": {
            "text/plain": [
              "URL                             False\n",
              "ID                              False\n",
              "Name                            False\n",
              "Subtitle                         True\n",
              "Icon URL                        False\n",
              "Average User Rating              True\n",
              "User Rating Count                True\n",
              "Price                            True\n",
              "In-app Purchases                 True\n",
              "Description                     False\n",
              "Developer                       False\n",
              "Age Rating                      False\n",
              "Languages                        True\n",
              "Size                             True\n",
              "Primary Genre                   False\n",
              "Genres                          False\n",
              "Original Release Date           False\n",
              "Current Version Release Date    False\n",
              "dtype: bool"
            ]
          },
          "metadata": {},
          "execution_count": 261
        }
      ],
      "source": [
        "df.isna().any()"
      ]
    },
    {
      "cell_type": "markdown",
      "source": [
        "It is noticeable that several columns have missing values. In the next section, we will address these missing values based on the characteristics and patterns of the data."
      ],
      "metadata": {
        "id": "2_4X9dUIZjzh"
      }
    },
    {
      "cell_type": "markdown",
      "metadata": {
        "id": "kqkgwIt3rUKj"
      },
      "source": [
        "\n",
        "## 1.2. Replace Null Values\n",
        "\n",
        "---\n",
        "\n",
        "For the `Average User Rating`, `User Rating Count`,`Price` and `In-app Purchases` . It is possible for an application to have received no ratings, despite being both free and did not have any in-app purchases.\n",
        "\n",
        "\n"
      ]
    },
    {
      "cell_type": "code",
      "execution_count": null,
      "metadata": {
        "id": "pPSuAmkYrUKj"
      },
      "outputs": [],
      "source": [
        "df['Average User Rating'] = df['Average User Rating'].fillna(0)\n",
        "df['User Rating Count'] = df['User Rating Count'].fillna(0)\n",
        "df['Price'] = df['Price'].fillna(0)\n",
        "df['In-app Purchases'] = df['In-app Purchases'].fillna(0.0)"
      ]
    },
    {
      "cell_type": "markdown",
      "metadata": {
        "id": "GUDY-67DrUKj"
      },
      "source": [
        "We substitute the null value with English for the language, as English is the [*lingua franca*](https://languagejustice.wordpress.com/2020/07/07/english-and-the-software-development-lingua-franca/) of software development.\n"
      ]
    },
    {
      "cell_type": "code",
      "execution_count": null,
      "metadata": {
        "id": "GMLw28dmrUKk"
      },
      "outputs": [],
      "source": [
        "df['Languages'] = df['Languages'].fillna('EN')"
      ]
    },
    {
      "cell_type": "markdown",
      "metadata": {
        "id": "c6gQcxXyrUKk"
      },
      "source": [
        "Following that, we inspect the column before filling in the null value. This is done by making a histogram graph for `Size`."
      ]
    },
    {
      "cell_type": "code",
      "execution_count": null,
      "metadata": {
        "colab": {
          "base_uri": "https://localhost:8080/",
          "height": 448
        },
        "id": "x_PeOQeQofMs",
        "outputId": "2095f5be-6c1c-4083-943f-e24654a58806"
      },
      "outputs": [
        {
          "output_type": "display_data",
          "data": {
            "text/plain": [
              "<Figure size 640x480 with 1 Axes>"
            ],
            "image/png": "[encoded data removed]"
          },
          "metadata": {}
        }
      ],
      "source": [
        "plt.hist(df['Size'],bins=50)\n",
        "plt.show()"
      ]
    },
    {
      "cell_type": "markdown",
      "metadata": {
        "id": "FfB97y-Opl9B"
      },
      "source": [
        "Based on the graph, it is evident that the graph form a right-skewed distribution. When dealing with right-skewed data, the median is often preferred as a measure of central tendency over the mean. \n",
        "\n",
        "The reason behind this is that the mean is highly sensitive to extreme values, such as outliers, which can have a significant impact on its calculation and potentially distort the overall interpretation of the data. In contrast, the median is less affected by extreme values and offers a more reliable representation of the typical or central value of the dataset.\n",
        "\n",
        "\n",
        "Hence, we fill the null values in the dataset with the median value, aiming to retain the integrity of the data without introducing significant changes."
      ]
    },
    {
      "cell_type": "code",
      "execution_count": null,
      "metadata": {
        "id": "oCwRFGwcrUKk"
      },
      "outputs": [],
      "source": [
        "df['Size'] = df['Size'].fillna(df['Size'].median())"
      ]
    },
    {
      "cell_type": "markdown",
      "source": [
        "## 1.3. Data Cleaning\n",
        "\n",
        "---\n",
        "In the dataset, there are certain columns that require adjustments to prepare them for future analysis. The first one is `Subtitle`. As we can see the column contain subtitle on each app, and considering the possibility of certain applications lacking a subtitle. So, we assume the null value means there is no subtitle."
      ],
      "metadata": {
        "id": "4U7V0WMbeldB"
      }
    },
    {
      "cell_type": "code",
      "execution_count": null,
      "metadata": {
        "colab": {
          "base_uri": "https://localhost:8080/"
        },
        "id": "xiKF-ty5sJlf",
        "outputId": "8df814d3-bccc-4f27-d40c-2d5f7ddba86f"
      },
      "outputs": [
        {
          "output_type": "execute_result",
          "data": {
            "text/plain": [
              "0                                   NaN\n",
              "1                                   NaN\n",
              "2                                   NaN\n",
              "3                                   NaN\n",
              "4                                   NaN\n",
              "                      ...              \n",
              "17002    Blast the cubes, solve puzzle!\n",
              "17003                               NaN\n",
              "17004                               NaN\n",
              "17005                  Most fun game!!!\n",
              "17006                               NaN\n",
              "Name: Subtitle, Length: 16847, dtype: object"
            ]
          },
          "metadata": {},
          "execution_count": 266
        }
      ],
      "source": [
        "df.Subtitle"
      ]
    },
    {
      "cell_type": "code",
      "execution_count": null,
      "metadata": {
        "id": "KF757R1VrUKk"
      },
      "outputs": [],
      "source": [
        "df.Subtitle = df.Subtitle.fillna('No Subtitle')"
      ]
    },
    {
      "cell_type": "markdown",
      "metadata": {
        "id": "W48Fu9d5rUKl"
      },
      "source": [
        "In the `subtitle` column, we notice that the column values represent the subtitles for each application. In order to narrow it down, we will modify the `subtitle` column to only contain a value indicating whether the application has a subtitle or not.\n",
        "\n",
        "\n",
        "To standardize the data in the `subtitle` column, we modify the values by replacing the existing subtitle entries with the term `Has Subtitle`. This ensures consistency in the representation of subtitles across the dataset."
      ]
    },
    {
      "cell_type": "code",
      "execution_count": null,
      "metadata": {
        "colab": {
          "base_uri": "https://localhost:8080/"
        },
        "id": "PEO-nk5lrUKl",
        "outputId": "d8670a12-483b-4874-a87e-8fb1286cbdca"
      },
      "outputs": [
        {
          "output_type": "execute_result",
          "data": {
            "text/plain": [
              "No Subtitle     11635\n",
              "Has Subtitle     5212\n",
              "Name: Subtitle, dtype: int64"
            ]
          },
          "metadata": {},
          "execution_count": 268
        }
      ],
      "source": [
        "df.Subtitle = ['Has Subtitle' if i != 'No Subtitle' else 'No Subtitle' for i in df.Subtitle]\n",
        "df.Subtitle.value_counts()"
      ]
    },
    {
      "cell_type": "markdown",
      "metadata": {
        "id": "CuwctzLVrUKl"
      },
      "source": [
        "Next, we move on to the `In-app Purchases`. We initiate the process by splitting the string in the 'In-app Purchases' column at each comma (`,`) since it contains multiple price values stored as a string.\n",
        "\n",
        "Furthermore, we proceed to replace the null values in the `In-app Purchases` column with `0.00`, assuming that the absence of values indicates that the app is completely free without any additional purchases.\n"
      ]
    },
    {
      "cell_type": "code",
      "execution_count": null,
      "metadata": {
        "id": "VCWJMwdrrUKm",
        "colab": {
          "base_uri": "https://localhost:8080/"
        },
        "outputId": "aedddaa8-5789-412f-a178-fff4ee84abc9"
      },
      "outputs": [
        {
          "output_type": "stream",
          "name": "stdout",
          "text": [
            "0                        0.0\n",
            "1                        0.0\n",
            "2                        0.0\n",
            "3                        0.0\n",
            "4                        0.0\n",
            "                ...         \n",
            "17002                    0.0\n",
            "17003                    0.0\n",
            "17004                    0.0\n",
            "17005    [9.99, 49.99, 3.99]\n",
            "17006                    0.0\n",
            "Name: In-app Purchases, Length: 16847, dtype: object\n"
          ]
        }
      ],
      "source": [
        "df['In-app Purchases'] = [i.split(', ') if type(i) == str else i for i in df['In-app Purchases']]\n",
        "df['In-app Purchases'] = df['In-app Purchases'].fillna(0.00)\n",
        "\n",
        "# Check the data\n",
        "print(df['In-app Purchases'])"
      ]
    },
    {
      "cell_type": "markdown",
      "metadata": {
        "id": "Qx16ayZHrUKm"
      },
      "source": [
        "We can see in the `In-app Purchases`, except the null value that we already fill with 0, has a list type, so we want to assign all the value to list, later we can iterate over the list from `In-app Purchases` column to change the data type from string to float"
      ]
    },
    {
      "cell_type": "code",
      "execution_count": null,
      "metadata": {
        "id": "DZfqNRDurUKn",
        "colab": {
          "base_uri": "https://localhost:8080/"
        },
        "outputId": "04acc3f1-3dde-4b54-8f65-15120d4a1407"
      },
      "outputs": [
        {
          "output_type": "stream",
          "name": "stdout",
          "text": [
            "0                      [0.0]\n",
            "1                      [0.0]\n",
            "2                      [0.0]\n",
            "3                      [0.0]\n",
            "4                      [0.0]\n",
            "                ...         \n",
            "17002                  [0.0]\n",
            "17003                  [0.0]\n",
            "17004                  [0.0]\n",
            "17005    [9.99, 49.99, 3.99]\n",
            "17006                  [0.0]\n",
            "Name: In-app Purchases, Length: 16847, dtype: object\n"
          ]
        }
      ],
      "source": [
        "df['In-app Purchases'] = [i if type(i) == list else [i] for i in df['In-app Purchases']]\n",
        "df['In-app Purchases'] = [[float(j) for j in i] for i in df['In-app Purchases']]\n",
        "\n",
        "# Check the data\n",
        "print(df['In-app Purchases'])"
      ]
    },
    {
      "cell_type": "markdown",
      "metadata": {
        "id": "VWvEHKQVrUKn"
      },
      "source": [
        "We iterate through `In-app Purchases` column and `index` in dataframe where `i` represents the `In-app Purchases` value and `j` represents the dataframe index.\n",
        "Then we replace every row in `In-app Purchases` with the mean of that row (e.g., [0.99] --> 0.99, [1.99,4.99] --> 3.49)\n"
      ]
    },
    {
      "cell_type": "code",
      "execution_count": null,
      "metadata": {
        "id": "LvurjSUArUKn"
      },
      "outputs": [],
      "source": [
        "for i,j in zip(df['In-app Purchases'],df.index):\n",
        "    df.loc[j , 'In-app Purchases'] = np.mean(i)"
      ]
    },
    {
      "cell_type": "code",
      "execution_count": null,
      "metadata": {
        "colab": {
          "base_uri": "https://localhost:8080/"
        },
        "id": "ZXds7leYrUKo",
        "outputId": "d640aa1d-1981-4b83-e8ff-288f04d8200d"
      },
      "outputs": [
        {
          "output_type": "execute_result",
          "data": {
            "text/plain": [
              "4          0.0\n",
              "5         1.99\n",
              "6          0.0\n",
              "7          0.0\n",
              "8          0.0\n",
              "9          0.0\n",
              "10         0.0\n",
              "11         0.0\n",
              "12         0.0\n",
              "13         0.0\n",
              "14         0.0\n",
              "15        0.99\n",
              "17         0.0\n",
              "18    2.132857\n",
              "19        0.99\n",
              "20         0.0\n",
              "Name: In-app Purchases, dtype: object"
            ]
          },
          "metadata": {},
          "execution_count": 272
        }
      ],
      "source": [
        "#check the data\n",
        "df['In-app Purchases'][4:20]"
      ]
    },
    {
      "cell_type": "markdown",
      "source": [
        "In the `age rating` column, we remove the (`+`) sign as part of the data preprocessing. This is done to facilitate future analysis of the `age rating` column which we will convert into a categorical column with ordered values. By stripping the (`+`) sign, we ensure that the age ratings can be properly categorized and ranked in the desired format."
      ],
      "metadata": {
        "id": "Pm3WEFpmezIT"
      }
    },
    {
      "cell_type": "code",
      "execution_count": null,
      "metadata": {
        "colab": {
          "base_uri": "https://localhost:8080/"
        },
        "id": "r_jz7EaKrUKo",
        "outputId": "8dbb76e4-cb3e-4a2e-eeb0-91a4d1c39d65"
      },
      "outputs": [
        {
          "output_type": "stream",
          "name": "stderr",
          "text": [
            "<ipython-input-273-ccdc9f5594c9>:1: FutureWarning: The default value of regex will change from True to False in a future version. In addition, single character regular expressions will *not* be treated as literal strings when regex=True.\n",
            "  df['Age Rating'] = df['Age Rating'].str.replace('+','').astype(int)\n"
          ]
        }
      ],
      "source": [
        "df['Age Rating'] = df['Age Rating'].str.replace('+','').astype(int)"
      ]
    },
    {
      "cell_type": "markdown",
      "metadata": {
        "id": "c8x4RtkFrUKo"
      },
      "source": [
        "Given that English is considered the international language and based on our examination of the dataset, we can assume that the majority of games in the App Store are designed for English-speaking users. Consequently, we filter the apps that have the English language code 'EN'."
      ]
    },
    {
      "cell_type": "code",
      "execution_count": null,
      "metadata": {
        "colab": {
          "base_uri": "https://localhost:8080/"
        },
        "id": "gzkU_b1zrUKo",
        "outputId": "99861b5b-fc60-4cb9-825f-b24610491b3a"
      },
      "outputs": [
        {
          "output_type": "execute_result",
          "data": {
            "text/plain": [
              "English        16736\n",
              "Non English      111\n",
              "Name: Languages, dtype: int64"
            ]
          },
          "metadata": {},
          "execution_count": 274
        }
      ],
      "source": [
        "df.Languages = ['English' if 'EN' in i else 'Non English' for i in df.Languages]\n",
        "df.Languages.value_counts()"
      ]
    },
    {
      "cell_type": "markdown",
      "source": [
        "Given that non-English App is only 111 (or approximately 0.65% of the data) of the dataset, it is reasonable to consider using only the applications with English language for future analysis. The exclusion of non-English data, which less than 1% of the dataset, is justifiable as it minimally affects the overall analysis while allowing for a more focused examination of English-language applications.\n"
      ],
      "metadata": {
        "id": "Sj406ER-fGWb"
      }
    },
    {
      "cell_type": "markdown",
      "source": [
        "In order to facilitate future analysis, we create a variable called `current_dateTime` with the present datetime for later datetime aggregation purposes."
      ],
      "metadata": {
        "id": "yeUiKGgT6onk"
      }
    },
    {
      "cell_type": "code",
      "execution_count": null,
      "metadata": {
        "id": "QVZKl0djrUKp"
      },
      "outputs": [],
      "source": [
        "current_dateTime = pd.to_datetime(datetime.now())"
      ]
    },
    {
      "cell_type": "markdown",
      "source": [
        "To convert the data types of the `Original Release Date` and `Current Version Release Date` columns from object to datetime, we can utilize the `.astype('datetime64[ns]')` method. This will ensure that these columns are treated as datetime values."
      ],
      "metadata": {
        "id": "X_L8aBZ4-vnb"
      }
    },
    {
      "cell_type": "code",
      "execution_count": null,
      "metadata": {
        "colab": {
          "base_uri": "https://localhost:8080/"
        },
        "id": "T-ghhpXFrUKp",
        "outputId": "a1f88ed9-3c9a-4fa8-849c-d5edbf837792"
      },
      "outputs": [
        {
          "output_type": "stream",
          "name": "stderr",
          "text": [
            "<ipython-input-276-8f2af702f230>:1: UserWarning: Parsing dates in DD/MM/YYYY format when dayfirst=False (the default) was specified. This may lead to inconsistently parsed dates! Specify a format to ensure consistent parsing.\n",
            "  df['Original Release Date'] = df['Original Release Date'].astype('datetime64[ns]')\n",
            "<ipython-input-276-8f2af702f230>:2: UserWarning: Parsing dates in DD/MM/YYYY format when dayfirst=False (the default) was specified. This may lead to inconsistently parsed dates! Specify a format to ensure consistent parsing.\n",
            "  df['Current Version Release Date'] = df['Current Version Release Date'].astype('datetime64[ns]')\n"
          ]
        }
      ],
      "source": [
        "df['Original Release Date'] = df['Original Release Date'].astype('datetime64[ns]')\n",
        "df['Current Version Release Date'] = df['Current Version Release Date'].astype('datetime64[ns]')"
      ]
    },
    {
      "cell_type": "code",
      "source": [
        "# Check the output\n",
        "print(df['Original Release Date'].dtype)\n",
        "print(df['Current Version Release Date'].dtype)"
      ],
      "metadata": {
        "colab": {
          "base_uri": "https://localhost:8080/"
        },
        "id": "539KAgug-eJB",
        "outputId": "836f8c6e-7ecc-4816-ef35-5c77cdff2d10"
      },
      "execution_count": null,
      "outputs": [
        {
          "output_type": "stream",
          "name": "stdout",
          "text": [
            "datetime64[ns]\n",
            "datetime64[ns]\n"
          ]
        }
      ]
    },
    {
      "cell_type": "markdown",
      "metadata": {
        "id": "hKMQDf4xrUKp"
      },
      "source": [
        "## 2. What are the most popular genre combinations?\n",
        "\n",
        "To identify popular genre combinations, the initial step is to split the values in the `genre` column at each comma `,`. This will separate the genre combinations."
      ]
    },
    {
      "cell_type": "code",
      "source": [
        "df.Genres"
      ],
      "metadata": {
        "colab": {
          "base_uri": "https://localhost:8080/"
        },
        "id": "xBT5HGj7D63g",
        "outputId": "9750111a-e876-4efe-b5fa-4ae86334ef14"
      },
      "execution_count": null,
      "outputs": [
        {
          "output_type": "execute_result",
          "data": {
            "text/plain": [
              "0                       Games, Strategy, Puzzle\n",
              "1                        Games, Strategy, Board\n",
              "2                        Games, Board, Strategy\n",
              "3                       Games, Strategy, Puzzle\n",
              "4             Games, Strategy, Board, Education\n",
              "                          ...                  \n",
              "17002    Games, Entertainment, Casual, Strategy\n",
              "17003                   Games, Family, Strategy\n",
              "17004                           Games, Strategy\n",
              "17005                   Games, Strategy, Action\n",
              "17006                   Games, Strategy, Puzzle\n",
              "Name: Genres, Length: 16847, dtype: object"
            ]
          },
          "metadata": {},
          "execution_count": 278
        }
      ]
    },
    {
      "cell_type": "code",
      "execution_count": null,
      "metadata": {
        "id": "pdgD2GXZrUKp"
      },
      "outputs": [],
      "source": [
        "df.Genres = df['Genres'].apply(lambda x: x.split(\", \"))\n",
        "genre = df.Genres"
      ]
    },
    {
      "cell_type": "code",
      "source": [
        "genre"
      ],
      "metadata": {
        "colab": {
          "base_uri": "https://localhost:8080/"
        },
        "id": "XUHnfZGLDaau",
        "outputId": "44bf6207-4b2b-442c-85e0-7dd4c02f6cea"
      },
      "execution_count": null,
      "outputs": [
        {
          "output_type": "execute_result",
          "data": {
            "text/plain": [
              "0                       [Games, Strategy, Puzzle]\n",
              "1                        [Games, Strategy, Board]\n",
              "2                        [Games, Board, Strategy]\n",
              "3                       [Games, Strategy, Puzzle]\n",
              "4             [Games, Strategy, Board, Education]\n",
              "                           ...                   \n",
              "17002    [Games, Entertainment, Casual, Strategy]\n",
              "17003                   [Games, Family, Strategy]\n",
              "17004                           [Games, Strategy]\n",
              "17005                   [Games, Strategy, Action]\n",
              "17006                   [Games, Strategy, Puzzle]\n",
              "Name: Genres, Length: 16847, dtype: object"
            ]
          },
          "metadata": {},
          "execution_count": 280
        }
      ]
    },
    {
      "cell_type": "markdown",
      "source": [
        "Next, we can count the occurrences of genre combinations using a loop."
      ],
      "metadata": {
        "id": "nGLw5qr0Hj5z"
      }
    },
    {
      "cell_type": "code",
      "execution_count": null,
      "metadata": {
        "id": "HwvcuUxFrUKz"
      },
      "outputs": [],
      "source": [
        "# Initializes an empty Counter object called d.\n",
        "d  = Counter()\n",
        "for sub in genre:\n",
        "# checks if the length of the current element (sub) is less than 2. \n",
        "    if len(sub) < 2:\n",
        "# If it is, the continue statement skips the remaining code for this iteration and moves to the next element.\n",
        "        continue\n",
        "# Sorts the sub list in ascending order\n",
        "    sub.sort()\n",
        "# Creates a loop that iterates over a range of values from 2 to the length of the sub list.\n",
        "    for sz in range(2, len(sub)+1):\n",
        "# Iterates over all the combinations of sz elements from the sub list.\n",
        "        for comb in combinations(sub, sz):\n",
        "# Increments the counter for each combination (comb) in the d dictionary.\n",
        "            d[comb] += 1"
      ]
    },
    {
      "cell_type": "markdown",
      "source": [
        "After counting the occurrences of genre combinations, we can use the `most_common()` function to determine the top 10 genres. This will provide us with the genres that appear most frequently in the dataset.\n",
        "\n",
        "\n",
        "[`most_common()`](https://docs.python.org/3/library/collections.html#collections.Counter.most_common) is a class method in the `Counter()` object."
      ],
      "metadata": {
        "id": "mGkc3e4TLtXy"
      }
    },
    {
      "cell_type": "code",
      "execution_count": null,
      "metadata": {
        "colab": {
          "base_uri": "https://localhost:8080/"
        },
        "id": "Niyam6HBrUKz",
        "outputId": "69bf7953-fa3e-418d-b828-f04feeb357d1"
      },
      "outputs": [
        {
          "output_type": "stream",
          "name": "stdout",
          "text": [
            "[(('Games', 'Strategy'), 16846), (('Entertainment', 'Games'), 7916), (('Entertainment', 'Strategy'), 7916), (('Entertainment', 'Games', 'Strategy'), 7916), (('Games', 'Puzzle'), 3919), (('Puzzle', 'Strategy'), 3919), (('Games', 'Puzzle', 'Strategy'), 3919), (('Games', 'Simulation'), 2124), (('Simulation', 'Strategy'), 2123), (('Games', 'Simulation', 'Strategy'), 2123)]\n"
          ]
        }
      ],
      "source": [
        "top_10_genre = d.most_common()[:10]\n",
        "print(top_10_genre)"
      ]
    },
    {
      "cell_type": "markdown",
      "source": [
        "To present the top 10 genres in a structured format, we can create a DataFrame to display the results. This DataFrame will contain the genre names and their corresponding frequencies."
      ],
      "metadata": {
        "id": "XK8gEBIQMqoC"
      }
    },
    {
      "cell_type": "code",
      "execution_count": null,
      "metadata": {
        "id": "uE5t3_ZzrUK0"
      },
      "outputs": [],
      "source": [
        "# Initialize empty list\n",
        "genres = []\n",
        "count = []\n",
        "# To separate the keys (genre names) and values (frequencies) and store them in individual empty lists.\n",
        "for i in top_10_genre:\n",
        "    genres.append(i[0])\n",
        "    count.append(i[1])"
      ]
    },
    {
      "cell_type": "markdown",
      "source": [
        "To enhance the comprehensibility of the genre names, we can add an `&` between each genre combination. Additionally, we can merge all the top 10 combinations into a single list. This will result in a more concise representation of the popular genre combinations.\n",
        "\n",
        "\n",
        "---\n",
        "\n",
        "\n",
        "Since the most common genre combinations in the top 10 involve either 3 or 2 genres, we can iterate through the list of genre combinations and separate them into groups of 3 and 2 genres. This will allow us to handle the different combinations more effectively.\n"
      ],
      "metadata": {
        "id": "jQvAn3PyNRw3"
      }
    },
    {
      "cell_type": "code",
      "execution_count": null,
      "metadata": {
        "colab": {
          "base_uri": "https://localhost:8080/"
        },
        "id": "GWtQJNiirUK0",
        "outputId": "3c6938ba-3e81-4abe-d653-85ab87c1b5b8"
      },
      "outputs": [
        {
          "output_type": "stream",
          "name": "stdout",
          "text": [
            "['Games & Strategy', 'Entertainment & Games', 'Entertainment & Strategy', 'Entertainment & Games & Strategy', 'Games & Puzzle', 'Puzzle & Strategy', 'Games & Puzzle & Strategy', 'Games & Simulation', 'Simulation & Strategy', 'Games & Simulation & Strategy']\n"
          ]
        }
      ],
      "source": [
        "# Initialize empty list\n",
        "genre_list = []\n",
        "for i in genres:\n",
        "    new = ''\n",
        "    i = list(i)\n",
        "    if len(i) == 3:\n",
        "        new = i[0]+' & '+i[1]+' & '+i[2]\n",
        "        genre_list.append(new)\n",
        "    else:\n",
        "        new = i[0]+' & '+i[1]\n",
        "        genre_list.append(new)\n",
        "\n",
        "print(genre_list)"
      ]
    },
    {
      "cell_type": "markdown",
      "source": [
        "Assing to a new DataFrame object."
      ],
      "metadata": {
        "id": "Njmb9E50OSFt"
      }
    },
    {
      "cell_type": "code",
      "execution_count": null,
      "metadata": {
        "id": "sI12oUpjrUK0"
      },
      "outputs": [],
      "source": [
        "top_10_genres = pd.DataFrame({'count': count}, index=genre_list)"
      ]
    },
    {
      "cell_type": "markdown",
      "source": [
        "Plot the data."
      ],
      "metadata": {
        "id": "37UWC1R6QNkD"
      }
    },
    {
      "cell_type": "code",
      "source": [
        "ax = top_10_genres.plot.bar(rot=90)\n",
        "ax.set_title('Top 10 Genres Combination')\n",
        "ax.set_ylabel('Total')"
      ],
      "metadata": {
        "colab": {
          "base_uri": "https://localhost:8080/",
          "height": 703
        },
        "id": "TpisfuOrQL9l",
        "outputId": "e8612e1d-c483-4bd9-ced3-358968b2cceb"
      },
      "execution_count": null,
      "outputs": [
        {
          "output_type": "execute_result",
          "data": {
            "text/plain": [
              "Text(0, 0.5, 'Total')"
            ]
          },
          "metadata": {},
          "execution_count": 286
        },
        {
          "output_type": "display_data",
          "data": {
            "text/plain": [
              "<Figure size 640x480 with 1 Axes>"
            ],
            "image/png": "[encoded data removed]"
          },
          "metadata": {}
        }
      ]
    },
    {
      "cell_type": "markdown",
      "metadata": {
        "id": "cxbVcpRGrUK0"
      },
      "source": [
        "##3. What is the oldest app, and how many years or months?\n"
      ]
    },
    {
      "cell_type": "markdown",
      "source": [
        "The initial step to discover the oldest application involves calculating the difference between the `current_dateTime` and the `Original release Date` then assign it to `Original release days`.\n",
        "\n",
        "\n",
        "After converting the data into a timedelta format, we proceed to extract the number of days from it."
      ],
      "metadata": {
        "id": "Bsgb6lF5yuXR"
      }
    },
    {
      "cell_type": "code",
      "execution_count": null,
      "metadata": {
        "id": "mbE7lmUprUK1",
        "colab": {
          "base_uri": "https://localhost:8080/"
        },
        "outputId": "3ad7a2ad-5b5e-4bf0-91b2-23e773edf7e8"
      },
      "outputs": [
        {
          "output_type": "stream",
          "name": "stdout",
          "text": [
            "0        5319\n",
            "1        5319\n",
            "2        5319\n",
            "3        5426\n",
            "4        5431\n",
            "         ... \n",
            "17002    1402\n",
            "17003    1605\n",
            "17004    1546\n",
            "17005    1605\n",
            "17006    1574\n",
            "Name: Original release days, Length: 16847, dtype: int64\n"
          ]
        }
      ],
      "source": [
        "df['Original release days'] = current_dateTime - df['Original Release Date']\n",
        "df['Original release days'] = pd.to_timedelta(df['Original release days']).dt.days\n",
        "# Check the output\n",
        "print(df['Original release days'])"
      ]
    },
    {
      "cell_type": "markdown",
      "source": [
        "To find the release time in months, we can calculate it by subtracting the `current_dateTime` from the `Original Release Date` using the `.dt.to_period('M')` method. This calculation helps us determine the number of months the application has been released."
      ],
      "metadata": {
        "id": "XCIdVtcUy00h"
      }
    },
    {
      "cell_type": "code",
      "execution_count": null,
      "metadata": {
        "id": "bnkql8EqrUK1",
        "colab": {
          "base_uri": "https://localhost:8080/"
        },
        "outputId": "d03aafd0-b30b-4fcb-aaa9-5c5e2a51d2b1"
      },
      "outputs": [
        {
          "output_type": "stream",
          "name": "stdout",
          "text": [
            "0        175\n",
            "1        175\n",
            "2        175\n",
            "3        179\n",
            "4        179\n",
            "        ... \n",
            "17002     47\n",
            "17003     53\n",
            "17004     51\n",
            "17005     53\n",
            "17006     52\n",
            "Name: Original release months, Length: 16847, dtype: int64\n"
          ]
        }
      ],
      "source": [
        "df['Original release months'] = current_dateTime.to_period('M') - df['Original Release Date'].dt.to_period('M')\n",
        "# Apply a lambda function, extracting the numerical values\n",
        "df['Original release months'] = df['Original release months'].apply(lambda x: x.n)\n",
        "# Check the output\n",
        "print(df['Original release months'])"
      ]
    },
    {
      "cell_type": "markdown",
      "source": [
        "The same approach can be used to determine the duration of the app's release in years. By subtracting the `Original Release Date` from the `current_dateTime` using the `.dt.to_period('Y')` method, we can calculate the number of years since the app was first launched."
      ],
      "metadata": {
        "id": "ZZw6qB7X8Ib6"
      }
    },
    {
      "cell_type": "code",
      "source": [
        "df['Original release years'] = current_dateTime.to_period('Y') - df['Original Release Date'].dt.to_period('Y')\n",
        "# Apply a lambda function, extracting the numerical values\n",
        "df['Original release years'] = df['Original release years'].apply(lambda x: x.n)\n",
        "# Check the output\n",
        "print(df['Original release years'])"
      ],
      "metadata": {
        "colab": {
          "base_uri": "https://localhost:8080/"
        },
        "id": "vgHCmZtC4xA2",
        "outputId": "48ed15da-666f-46e0-fd91-ea839d0b0d64"
      },
      "execution_count": null,
      "outputs": [
        {
          "output_type": "stream",
          "name": "stdout",
          "text": [
            "0        15\n",
            "1        15\n",
            "2        15\n",
            "3        15\n",
            "4        15\n",
            "         ..\n",
            "17002     4\n",
            "17003     4\n",
            "17004     4\n",
            "17005     4\n",
            "17006     4\n",
            "Name: Original release years, Length: 16847, dtype: int64\n"
          ]
        }
      ]
    },
    {
      "cell_type": "markdown",
      "source": [
        "To identify the oldest release app, we can utilize the `max()` function on the `Original release days` column. "
      ],
      "metadata": {
        "id": "V-X4T2Kp5ntg"
      }
    },
    {
      "cell_type": "code",
      "execution_count": null,
      "metadata": {
        "colab": {
          "base_uri": "https://localhost:8080/",
          "height": 295
        },
        "id": "46FEBvHarUK1",
        "outputId": "80129a45-549d-42d7-e675-463afe6f78aa"
      },
      "outputs": [
        {
          "output_type": "execute_result",
          "data": {
            "text/plain": [
              "                                                 URL         ID  \\\n",
              "9  https://apps.apple.com/us/app/barrels-o-fun/id...  286682679   \n",
              "\n",
              "               Name     Subtitle  \\\n",
              "9  \"Barrels O' Fun\"  No Subtitle   \n",
              "\n",
              "                                            Icon URL  Average User Rating  \\\n",
              "9  https://is4-ssl.mzstatic.com/image/thumb/Purpl...                  2.5   \n",
              "\n",
              "   User Rating Count  Price In-app Purchases  \\\n",
              "9              184.0    0.0              0.0   \n",
              "\n",
              "                                         Description  ... Age Rating  \\\n",
              "9  Barrels O\\u2019 Fun is a simple but challengin...  ...          4   \n",
              "\n",
              "   Languages       Size  Primary Genre                     Genres  \\\n",
              "9    English  1466515.0          Games  [Casual, Games, Strategy]   \n",
              "\n",
              "  Original Release Date Current Version Release Date Original release days  \\\n",
              "9            2008-01-08                   2008-01-08                  5623   \n",
              "\n",
              "   Original release months  Original release years  \n",
              "9                      185                      15  \n",
              "\n",
              "[1 rows x 21 columns]"
            ],
            "text/html": [
              "\n",
              "  <div id=\"df-251f8601-f8d4-413a-aee9-1fd4781de3df\">\n",
              "    <div class=\"colab-df-container\">\n",
              "      <div>\n",
              "<style scoped>\n",
              "    .dataframe tbody tr th:only-of-type {\n",
              "        vertical-align: middle;\n",
              "    }\n",
              "\n",
              "    .dataframe tbody tr th {\n",
              "        vertical-align: top;\n",
              "    }\n",
              "\n",
              "    .dataframe thead th {\n",
              "        text-align: right;\n",
              "    }\n",
              "</style>\n",
              "<table border=\"1\" class=\"dataframe\">\n",
              "  <thead>\n",
              "    <tr style=\"text-align: right;\">\n",
              "      <th></th>\n",
              "      <th>URL</th>\n",
              "      <th>ID</th>\n",
              "      <th>Name</th>\n",
              "      <th>Subtitle</th>\n",
              "      <th>Icon URL</th>\n",
              "      <th>Average User Rating</th>\n",
              "      <th>User Rating Count</th>\n",
              "      <th>Price</th>\n",
              "      <th>In-app Purchases</th>\n",
              "      <th>Description</th>\n",
              "      <th>...</th>\n",
              "      <th>Age Rating</th>\n",
              "      <th>Languages</th>\n",
              "      <th>Size</th>\n",
              "      <th>Primary Genre</th>\n",
              "      <th>Genres</th>\n",
              "      <th>Original Release Date</th>\n",
              "      <th>Current Version Release Date</th>\n",
              "      <th>Original release days</th>\n",
              "      <th>Original release months</th>\n",
              "      <th>Original release years</th>\n",
              "    </tr>\n",
              "  </thead>\n",
              "  <tbody>\n",
              "    <tr>\n",
              "      <th>9</th>\n",
              "      <td>https://apps.apple.com/us/app/barrels-o-fun/id...</td>\n",
              "      <td>286682679</td>\n",
              "      <td>\"Barrels O' Fun\"</td>\n",
              "      <td>No Subtitle</td>\n",
              "      <td>https://is4-ssl.mzstatic.com/image/thumb/Purpl...</td>\n",
              "      <td>2.5</td>\n",
              "      <td>184.0</td>\n",
              "      <td>0.0</td>\n",
              "      <td>0.0</td>\n",
              "      <td>Barrels O\\u2019 Fun is a simple but challengin...</td>\n",
              "      <td>...</td>\n",
              "      <td>4</td>\n",
              "      <td>English</td>\n",
              "      <td>1466515.0</td>\n",
              "      <td>Games</td>\n",
              "      <td>[Casual, Games, Strategy]</td>\n",
              "      <td>2008-01-08</td>\n",
              "      <td>2008-01-08</td>\n",
              "      <td>5623</td>\n",
              "      <td>185</td>\n",
              "      <td>15</td>\n",
              "    </tr>\n",
              "  </tbody>\n",
              "</table>\n",
              "<p>1 rows × 21 columns</p>\n",
              "</div>\n",
              "      <button class=\"colab-df-convert\" onclick=\"convertToInteractive('df-251f8601-f8d4-413a-aee9-1fd4781de3df')\"\n",
              "              title=\"Convert this dataframe to an interactive table.\"\n",
              "              style=\"display:none;\">\n",
              "        \n",
              "  <svg xmlns=\"http://www.w3.org/2000/svg\" height=\"24px\"viewBox=\"0 0 24 24\"\n",
              "       width=\"24px\">\n",
              "    <path d=\"M0 0h24v24H0V0z\" fill=\"none\"/>\n",
              "    <path d=\"M18.56 5.44l.94 2.06.94-2.06 2.06-.94-2.06-.94-.94-2.06-.94 2.06-2.06.94zm-11 1L8.5 8.5l.94-2.06 2.06-.94-2.06-.94L8.5 2.5l-.94 2.06-2.06.94zm10 10l.94 2.06.94-2.06 2.06-.94-2.06-.94-.94-2.06-.94 2.06-2.06.94z\"/><path d=\"M17.41 7.96l-1.37-1.37c-.4-.4-.92-.59-1.43-.59-.52 0-1.04.2-1.43.59L10.3 9.45l-7.72 7.72c-.78.78-.78 2.05 0 2.83L4 21.41c.39.39.9.59 1.41.59.51 0 1.02-.2 1.41-.59l7.78-7.78 2.81-2.81c.8-.78.8-2.07 0-2.86zM5.41 20L4 18.59l7.72-7.72 1.47 1.35L5.41 20z\"/>\n",
              "  </svg>\n",
              "      </button>\n",
              "      \n",
              "  <style>\n",
              "    .colab-df-container {\n",
              "      display:flex;\n",
              "      flex-wrap:wrap;\n",
              "      gap: 12px;\n",
              "    }\n",
              "\n",
              "    .colab-df-convert {\n",
              "      background-color: #E8F0FE;\n",
              "      border: none;\n",
              "      border-radius: 50%;\n",
              "      cursor: pointer;\n",
              "      display: none;\n",
              "      fill: #1967D2;\n",
              "      height: 32px;\n",
              "      padding: 0 0 0 0;\n",
              "      width: 32px;\n",
              "    }\n",
              "\n",
              "    .colab-df-convert:hover {\n",
              "      background-color: #E2EBFA;\n",
              "      box-shadow: 0px 1px 2px rgba(60, 64, 67, 0.3), 0px 1px 3px 1px rgba(60, 64, 67, 0.15);\n",
              "      fill: #174EA6;\n",
              "    }\n",
              "\n",
              "    [theme=dark] .colab-df-convert {\n",
              "      background-color: #3B4455;\n",
              "      fill: #D2E3FC;\n",
              "    }\n",
              "\n",
              "    [theme=dark] .colab-df-convert:hover {\n",
              "      background-color: #434B5C;\n",
              "      box-shadow: 0px 1px 3px 1px rgba(0, 0, 0, 0.15);\n",
              "      filter: drop-shadow(0px 1px 2px rgba(0, 0, 0, 0.3));\n",
              "      fill: #FFFFFF;\n",
              "    }\n",
              "  </style>\n",
              "\n",
              "      <script>\n",
              "        const buttonEl =\n",
              "          document.querySelector('#df-251f8601-f8d4-413a-aee9-1fd4781de3df button.colab-df-convert');\n",
              "        buttonEl.style.display =\n",
              "          google.colab.kernel.accessAllowed ? 'block' : 'none';\n",
              "\n",
              "        async function convertToInteractive(key) {\n",
              "          const element = document.querySelector('#df-251f8601-f8d4-413a-aee9-1fd4781de3df');\n",
              "          const dataTable =\n",
              "            await google.colab.kernel.invokeFunction('convertToInteractive',\n",
              "                                                     [key], {});\n",
              "          if (!dataTable) return;\n",
              "\n",
              "          const docLinkHtml = 'Like what you see? Visit the ' +\n",
              "            '<a target=\"_blank\" href=https://colab.research.google.com/notebooks/data_table.ipynb>data table notebook</a>'\n",
              "            + ' to learn more about interactive tables.';\n",
              "          element.innerHTML = '';\n",
              "          dataTable['output_type'] = 'display_data';\n",
              "          await google.colab.output.renderOutput(dataTable, element);\n",
              "          const docLink = document.createElement('div');\n",
              "          docLink.innerHTML = docLinkHtml;\n",
              "          element.appendChild(docLink);\n",
              "        }\n",
              "      </script>\n",
              "    </div>\n",
              "  </div>\n",
              "  "
            ]
          },
          "metadata": {},
          "execution_count": 290
        }
      ],
      "source": [
        "df[df['Original release days'] == max(df['Original release days'])]"
      ]
    },
    {
      "cell_type": "markdown",
      "source": [
        "The oldest app is Barrels O' Fun where it was released on January 8, 2008 has been available for more than 15 years. This free application has 2.5 average user rating and falls under the genres of Casual, Games, and Strategy."
      ],
      "metadata": {
        "id": "Ch5lrV8rhlKO"
      }
    },
    {
      "cell_type": "markdown",
      "metadata": {
        "id": "bsDiCxWNrUK1"
      },
      "source": [
        "##4. What is the app that receives the latest update?"
      ]
    },
    {
      "cell_type": "markdown",
      "source": [
        "Similar to the oldest application, the initial step to discovering the most recent updates for an app is to subtract between `current_dateTime` and the `Current Version Release Date` then assign it to `Latest update days`.\n",
        "\n",
        "Once the data has been converted into a `timedelta` format, the next step is to extract the number of days from it."
      ],
      "metadata": {
        "id": "egWxucoR-89A"
      }
    },
    {
      "cell_type": "code",
      "execution_count": null,
      "metadata": {
        "id": "-6rfxVDerUK2",
        "colab": {
          "base_uri": "https://localhost:8080/"
        },
        "outputId": "e13db717-559e-41f7-92ac-6f9ea8f8f44f"
      },
      "outputs": [
        {
          "output_type": "stream",
          "name": "stdout",
          "text": [
            "0        2193\n",
            "1        1841\n",
            "2        2214\n",
            "3        2193\n",
            "4        1775\n",
            "         ... \n",
            "17002    1402\n",
            "17003    1605\n",
            "17004    1546\n",
            "17005    1605\n",
            "17006    1574\n",
            "Name: Latest update days, Length: 16847, dtype: int64\n"
          ]
        }
      ],
      "source": [
        "df['Latest update days'] = current_dateTime - df['Current Version Release Date']\n",
        "df['Latest update days'] = pd.to_timedelta(df['Latest update days'], errors='coerce').dt.days\n",
        "# Check the output\n",
        "print(df['Latest update days'])"
      ]
    },
    {
      "cell_type": "markdown",
      "source": [
        "To determine the duration in months since the last update, we can compute it by subtracting the `current_dateTime` from the `Current Version Release Date` using the `.dt.to_period('M')` function. This computation allows us to ascertain the number of months that have elapsed since the application's most recent update, and then assign the outcome to the column labeled `Latest update months`."
      ],
      "metadata": {
        "id": "BfBhV667-90S"
      }
    },
    {
      "cell_type": "code",
      "execution_count": null,
      "metadata": {
        "id": "PONf9orjrUK2",
        "colab": {
          "base_uri": "https://localhost:8080/"
        },
        "outputId": "8d63e325-c49a-42da-9caf-26c9e2e147a5"
      },
      "outputs": [
        {
          "output_type": "stream",
          "name": "stdout",
          "text": [
            "0        73\n",
            "1        61\n",
            "2        73\n",
            "3        73\n",
            "4        59\n",
            "         ..\n",
            "17002    47\n",
            "17003    53\n",
            "17004    51\n",
            "17005    53\n",
            "17006    52\n",
            "Name: Latest update months, Length: 16847, dtype: int64\n"
          ]
        }
      ],
      "source": [
        "df['Latest update months'] = current_dateTime.to_period('M') - df['Current Version Release Date'].dt.to_period('M')\n",
        "# Apply a lambda function, extracting the numerical values\n",
        "df['Latest update months'] = df['Latest update months'].apply(lambda x: x.n)\n",
        "# Check the output\n",
        "print(df['Latest update months'])"
      ]
    },
    {
      "cell_type": "markdown",
      "source": [
        "Similarly, we can employ the same approach to determine the duration in years. "
      ],
      "metadata": {
        "id": "pNv457wlB--D"
      }
    },
    {
      "cell_type": "code",
      "source": [
        "df['Latest update years'] = current_dateTime.to_period('Y') - df['Current Version Release Date'].dt.to_period('Y')\n",
        "# Apply a lambda function, extracting the numerical values\n",
        "df['Latest update years'] = df['Latest update years'].apply(lambda x: x.n)\n",
        "# Check the output\n",
        "print(df['Latest update years'])"
      ],
      "metadata": {
        "colab": {
          "base_uri": "https://localhost:8080/"
        },
        "id": "5w1vOnMhB4LS",
        "outputId": "33355488-f624-4fae-9054-c400a7983288"
      },
      "execution_count": null,
      "outputs": [
        {
          "output_type": "stream",
          "name": "stdout",
          "text": [
            "0        6\n",
            "1        5\n",
            "2        6\n",
            "3        6\n",
            "4        5\n",
            "        ..\n",
            "17002    4\n",
            "17003    4\n",
            "17004    4\n",
            "17005    4\n",
            "17006    4\n",
            "Name: Latest update years, Length: 16847, dtype: int64\n"
          ]
        }
      ]
    },
    {
      "cell_type": "markdown",
      "source": [
        "To identify the apps with the most recent updates, we can utilize the `min()` function."
      ],
      "metadata": {
        "id": "MRWVyPtw--R5"
      }
    },
    {
      "cell_type": "code",
      "execution_count": null,
      "metadata": {
        "colab": {
          "base_uri": "https://localhost:8080/",
          "height": 1000
        },
        "id": "za-1EXlYrUK2",
        "outputId": "5b504e15-7035-415c-aaf6-0d41556c3850"
      },
      "outputs": [
        {
          "output_type": "execute_result",
          "data": {
            "text/plain": [
              "                                                     URL          ID  \\\n",
              "445    https://apps.apple.com/us/app/chess-trainer/id...   398398860   \n",
              "874    https://apps.apple.com/us/app/othello-the-offi...   466399294   \n",
              "2086   https://apps.apple.com/us/app/bloons-td-battle...   624533261   \n",
              "4640   https://apps.apple.com/us/app/monster-battles-...   918520173   \n",
              "7506   https://apps.apple.com/us/app/minesweeper-xl-c...  1067644217   \n",
              "7960   https://apps.apple.com/us/app/brick-puzzle-blo...  1086524892   \n",
              "9286   https://apps.apple.com/us/app/kickoff-football...  1139112644   \n",
              "9324   https://apps.apple.com/us/app/star-quest-tcg/i...  1140168552   \n",
              "9381   https://apps.apple.com/us/app/crazy-rolling-he...  1142106736   \n",
              "10837  https://apps.apple.com/us/app/space-colonizers...  1197960176   \n",
              "12434  https://apps.apple.com/us/app/wartide-heroes-o...  1268498553   \n",
              "12473  https://apps.apple.com/us/app/cash-inc-fame-fo...  1270598321   \n",
              "12959  https://apps.apple.com/us/app/merge-star/id129...  1298579909   \n",
              "13467  https://apps.apple.com/us/app/bubble-magic-gem...  1332605733   \n",
              "15138   https://apps.apple.com/us/app/sw-ay/id1436075375  1436075375   \n",
              "15375  https://apps.apple.com/us/app/alicia-quatermai...  1439427834   \n",
              "15452  https://apps.apple.com/us/app/idle-cook-cookin...  1440734832   \n",
              "15944  https://apps.apple.com/us/app/ultras-the-game/...  1449714073   \n",
              "16171  https://apps.apple.com/us/app/idle-convoy-vs-z...  1453961597   \n",
              "16378  https://apps.apple.com/us/app/kingdom-of-legio...  1458084482   \n",
              "16627  https://apps.apple.com/us/app/glowing-heart-pu...  1464393287   \n",
              "16696  https://apps.apple.com/us/app/idle-fishing-tyc...  1466050156   \n",
              "16927  https://apps.apple.com/us/app/stack-ball-3d-to...  1472587655   \n",
              "\n",
              "                                 Name      Subtitle  \\\n",
              "445                     Chess Trainer   No Subtitle   \n",
              "874       Othello - The Official Game  Has Subtitle   \n",
              "2086                Bloons TD Battles  Has Subtitle   \n",
              "4640             Monster Battles: TCG  Has Subtitle   \n",
              "7506    Minesweeper XL classic + undo  Has Subtitle   \n",
              "7960       Brick Puzzle - Block Mania  Has Subtitle   \n",
              "9286    Kickoff - Football prediction  Has Subtitle   \n",
              "9324                  Star Quest: TCG  Has Subtitle   \n",
              "9381               Crazy Rolling Hero  Has Subtitle   \n",
              "10837   Space Colonizers Idle Clicker  Has Subtitle   \n",
              "12434     Wartide: Heroes of Atlantis  Has Subtitle   \n",
              "12473  Cash, Inc. Fame & Fortune Game  Has Subtitle   \n",
              "12959                      Merge Star  Has Subtitle   \n",
              "13467                Bubble Magic Gem   No Subtitle   \n",
              "15138                           SW:AY  Has Subtitle   \n",
              "15375  Alicia Quatermain 2 (Platinum)  Has Subtitle   \n",
              "15452  Idle Cook: CookingGames Tycoon  Has Subtitle   \n",
              "15944                 Ultras The Game   No Subtitle   \n",
              "16171      Idle Convoy VS Zombies Inc  Has Subtitle   \n",
              "16378               Kingdom of Legion   No Subtitle   \n",
              "16627            Glowing Heart Puzzle  Has Subtitle   \n",
              "16696             Idle Fishing Tycoon  Has Subtitle   \n",
              "16927    Stack Ball 3D -Tower Breaker  Has Subtitle   \n",
              "\n",
              "                                                Icon URL  Average User Rating  \\\n",
              "445    https://is3-ssl.mzstatic.com/image/thumb/Purpl...                  3.5   \n",
              "874    https://is5-ssl.mzstatic.com/image/thumb/Purpl...                  4.5   \n",
              "2086   https://is2-ssl.mzstatic.com/image/thumb/Purpl...                  4.5   \n",
              "4640   https://is5-ssl.mzstatic.com/image/thumb/Purpl...                  4.5   \n",
              "7506   https://is3-ssl.mzstatic.com/image/thumb/Purpl...                  4.5   \n",
              "7960   https://is2-ssl.mzstatic.com/image/thumb/Purpl...                  4.0   \n",
              "9286   https://is4-ssl.mzstatic.com/image/thumb/Purpl...                  0.0   \n",
              "9324   https://is4-ssl.mzstatic.com/image/thumb/Purpl...                  5.0   \n",
              "9381   https://is1-ssl.mzstatic.com/image/thumb/Purpl...                  5.0   \n",
              "10837  https://is4-ssl.mzstatic.com/image/thumb/Purpl...                  4.5   \n",
              "12434  https://is5-ssl.mzstatic.com/image/thumb/Purpl...                  4.5   \n",
              "12473  https://is3-ssl.mzstatic.com/image/thumb/Purpl...                  5.0   \n",
              "12959  https://is5-ssl.mzstatic.com/image/thumb/Purpl...                  4.5   \n",
              "13467  https://is4-ssl.mzstatic.com/image/thumb/Purpl...                  5.0   \n",
              "15138  https://is2-ssl.mzstatic.com/image/thumb/Purpl...                  0.0   \n",
              "15375  https://is4-ssl.mzstatic.com/image/thumb/Purpl...                  5.0   \n",
              "15452  https://is2-ssl.mzstatic.com/image/thumb/Purpl...                  4.5   \n",
              "15944  https://is1-ssl.mzstatic.com/image/thumb/Purpl...                  0.0   \n",
              "16171  https://is5-ssl.mzstatic.com/image/thumb/Purpl...                  4.5   \n",
              "16378  https://is4-ssl.mzstatic.com/image/thumb/Purpl...                  0.0   \n",
              "16627  https://is3-ssl.mzstatic.com/image/thumb/Purpl...                  0.0   \n",
              "16696  https://is5-ssl.mzstatic.com/image/thumb/Purpl...                  0.0   \n",
              "16927  https://is3-ssl.mzstatic.com/image/thumb/Purpl...                  0.0   \n",
              "\n",
              "       User Rating Count  Price In-app Purchases  \\\n",
              "445                113.0    0.0             1.69   \n",
              "874               4523.0    0.0             2.49   \n",
              "2086            219230.0    0.0             5.59   \n",
              "4640               299.0    0.0             2.69   \n",
              "7506               275.0    0.0             7.99   \n",
              "7960                11.0    0.0              0.0   \n",
              "9286                 0.0    0.0              0.0   \n",
              "9324                17.0    0.0             4.69   \n",
              "9381             10776.0    0.0              0.0   \n",
              "10837             1517.0    0.0            21.04   \n",
              "12434             1707.0    0.0            22.79   \n",
              "12473           374772.0    0.0            10.99   \n",
              "12959              280.0    0.0            20.29   \n",
              "13467                9.0    0.0             1.99   \n",
              "15138                0.0    0.0              0.0   \n",
              "15375               56.0    0.0             5.99   \n",
              "15452             1145.0    0.0            18.09   \n",
              "15944                0.0    0.0             7.59   \n",
              "16171              329.0    0.0             3.99   \n",
              "16378                0.0    0.0           23.365   \n",
              "16627                0.0    0.0              0.0   \n",
              "16696                0.0    0.0              0.0   \n",
              "16927                0.0    0.0              0.0   \n",
              "\n",
              "                                             Description  ... Primary Genre  \\\n",
              "445    \"Good work, uh, tremendous work done by develo...  ...         Games   \n",
              "874    Play the official LITE Games version of the po...  ...         Games   \n",
              "2086   Play the top-rated tower defense franchise in ...  ...         Games   \n",
              "4640   Monster Battles: TCG is a free-to-play collect...  ...         Games   \n",
              "7506   Extra large minesweeper is here for you!\\n\\nIt...  ...         Games   \n",
              "7960   Block Puzzle \\u2013 Wood Puzzle Game is a wood...  ...         Games   \n",
              "9286   \"Predict football scores with your friends. Ki...  ...        Sports   \n",
              "9324   Join Star Quest: TCG\\u2019s Universe: amazing ...  ...         Games   \n",
              "9381   Roll through touch left and right, rotating ea...  ...         Games   \n",
              "10837  \"Space Colonizers has been selected as an Indi...  ...         Games   \n",
              "12434  \"The ultimate strategy battling RPG you have b...  ...         Games   \n",
              "12473  \"Embark on the ultimate idle clicker adventure...  ...         Games   \n",
              "12959  In a time not too long ago, there was a warrio...  ...         Games   \n",
              "13467  This is the best bubble shooter puzzle game !\\...  ...         Games   \n",
              "15138  SW:AY, play pong against AI. How long can you ...  ...         Games   \n",
              "15375  The NEW game in the Alicia Quatermain series i...  ...         Games   \n",
              "15452  \"To fill up your appetite, what you need is no...  ...         Games   \n",
              "15944  \"Tired of conventional Football Game? \\n\\nBe a...  ...         Games   \n",
              "16171  Hundreds of years later, the world is dominate...  ...         Games   \n",
              "16378  Kingdom of Legion is a fantasy strategy game.\\...  ...         Games   \n",
              "16627  \"Glowing Heart Puzzle is a simple and addictiv...  ...         Games   \n",
              "16696  Ready to be rich?\\n\\nBecome the richest fishin...  ...         Games   \n",
              "16927  Twist Ball Crush Choose your strategy: speed u...  ...         Games   \n",
              "\n",
              "                                             Genres Original Release Date  \\\n",
              "445         [Board, Entertainment, Games, Strategy]            2010-02-12   \n",
              "874         [Board, Entertainment, Games, Strategy]            2011-09-30   \n",
              "2086       [Action, Entertainment, Games, Strategy]            2013-07-18   \n",
              "4640         [Card, Entertainment, Games, Strategy]            2015-08-01   \n",
              "7506        [Board, Entertainment, Games, Strategy]            2016-09-01   \n",
              "7960       [Entertainment, Games, Puzzle, Strategy]            2016-02-25   \n",
              "9286              [Games, Sports, Sports, Strategy]            2018-06-23   \n",
              "9324         [Card, Entertainment, Games, Strategy]            2018-12-03   \n",
              "9381       [Entertainment, Games, Puzzle, Strategy]            2016-06-09   \n",
              "10837  [Entertainment, Games, Simulation, Strategy]            2017-07-06   \n",
              "12434               [Games, Role Playing, Strategy]            2017-10-25   \n",
              "12473  [Entertainment, Games, Simulation, Strategy]            2017-06-10   \n",
              "12959   [Adventure, Entertainment, Games, Strategy]            2018-03-26   \n",
              "13467      [Entertainment, Games, Puzzle, Strategy]            2019-07-06   \n",
              "15138      [Casual, Entertainment, Games, Strategy]            2019-06-22   \n",
              "15375                  [Adventure, Games, Strategy]            2019-06-26   \n",
              "15452  [Entertainment, Games, Simulation, Strategy]            2018-11-22   \n",
              "15944                     [Games, Sports, Strategy]            2019-01-07   \n",
              "16171   [Adventure, Entertainment, Games, Strategy]            2019-05-27   \n",
              "16378                 [Games, Simulation, Strategy]            2019-09-04   \n",
              "16627                     [Games, Puzzle, Strategy]            2019-06-26   \n",
              "16696                 [Games, Simulation, Strategy]            2019-05-06   \n",
              "16927      [Entertainment, Games, Puzzle, Strategy]            2019-12-07   \n",
              "\n",
              "       Current Version Release Date Original release days  \\\n",
              "445                      2019-12-07                  4857   \n",
              "874                      2019-12-07                  4262   \n",
              "2086                     2019-12-07                  3605   \n",
              "4640                     2019-12-07                  2861   \n",
              "7506                     2019-12-07                  2464   \n",
              "7960                     2019-12-07                  2653   \n",
              "9286                     2019-12-07                  1804   \n",
              "9324                     2019-12-07                  1641   \n",
              "9381                     2019-12-07                  2548   \n",
              "10837                    2019-12-07                  2156   \n",
              "12434                    2019-12-07                  2045   \n",
              "12473                    2019-12-07                  2182   \n",
              "12959                    2019-12-07                  1893   \n",
              "13467                    2019-12-07                  1426   \n",
              "15138                    2019-12-07                  1440   \n",
              "15375                    2019-12-07                  1436   \n",
              "15452                    2019-12-07                  1652   \n",
              "15944                    2019-12-07                  1606   \n",
              "16171                    2019-12-07                  1466   \n",
              "16378                    2019-12-07                  1366   \n",
              "16627                    2019-12-07                  1436   \n",
              "16696                    2019-12-07                  1487   \n",
              "16927                    2019-12-07                  1272   \n",
              "\n",
              "      Original release months Original release years Latest update days  \\\n",
              "445                       160                     13               1272   \n",
              "874                       141                     12               1272   \n",
              "2086                      119                     10               1272   \n",
              "4640                       94                      8               1272   \n",
              "7506                       81                      7               1272   \n",
              "7960                       88                      7               1272   \n",
              "9286                       60                      5               1272   \n",
              "9324                       54                      5               1272   \n",
              "9381                       84                      7               1272   \n",
              "10837                      71                      6               1272   \n",
              "12434                      68                      6               1272   \n",
              "12473                      72                      6               1272   \n",
              "12959                      63                      5               1272   \n",
              "13467                      47                      4               1272   \n",
              "15138                      48                      4               1272   \n",
              "15375                      48                      4               1272   \n",
              "15452                      55                      5               1272   \n",
              "15944                      53                      4               1272   \n",
              "16171                      49                      4               1272   \n",
              "16378                      45                      4               1272   \n",
              "16627                      48                      4               1272   \n",
              "16696                      49                      4               1272   \n",
              "16927                      42                      4               1272   \n",
              "\n",
              "       Latest update months  Latest update years  \n",
              "445                      42                    4  \n",
              "874                      42                    4  \n",
              "2086                     42                    4  \n",
              "4640                     42                    4  \n",
              "7506                     42                    4  \n",
              "7960                     42                    4  \n",
              "9286                     42                    4  \n",
              "9324                     42                    4  \n",
              "9381                     42                    4  \n",
              "10837                    42                    4  \n",
              "12434                    42                    4  \n",
              "12473                    42                    4  \n",
              "12959                    42                    4  \n",
              "13467                    42                    4  \n",
              "15138                    42                    4  \n",
              "15375                    42                    4  \n",
              "15452                    42                    4  \n",
              "15944                    42                    4  \n",
              "16171                    42                    4  \n",
              "16378                    42                    4  \n",
              "16627                    42                    4  \n",
              "16696                    42                    4  \n",
              "16927                    42                    4  \n",
              "\n",
              "[23 rows x 24 columns]"
            ],
            "text/html": [
              "\n",
              "  <div id=\"df-7afa89f6-bc39-48a5-a56c-61c0e54e51b7\">\n",
              "    <div class=\"colab-df-container\">\n",
              "      <div>\n",
              "<style scoped>\n",
              "    .dataframe tbody tr th:only-of-type {\n",
              "        vertical-align: middle;\n",
              "    }\n",
              "\n",
              "    .dataframe tbody tr th {\n",
              "        vertical-align: top;\n",
              "    }\n",
              "\n",
              "    .dataframe thead th {\n",
              "        text-align: right;\n",
              "    }\n",
              "</style>\n",
              "<table border=\"1\" class=\"dataframe\">\n",
              "  <thead>\n",
              "    <tr style=\"text-align: right;\">\n",
              "      <th></th>\n",
              "      <th>URL</th>\n",
              "      <th>ID</th>\n",
              "      <th>Name</th>\n",
              "      <th>Subtitle</th>\n",
              "      <th>Icon URL</th>\n",
              "      <th>Average User Rating</th>\n",
              "      <th>User Rating Count</th>\n",
              "      <th>Price</th>\n",
              "      <th>In-app Purchases</th>\n",
              "      <th>Description</th>\n",
              "      <th>...</th>\n",
              "      <th>Primary Genre</th>\n",
              "      <th>Genres</th>\n",
              "      <th>Original Release Date</th>\n",
              "      <th>Current Version Release Date</th>\n",
              "      <th>Original release days</th>\n",
              "      <th>Original release months</th>\n",
              "      <th>Original release years</th>\n",
              "      <th>Latest update days</th>\n",
              "      <th>Latest update months</th>\n",
              "      <th>Latest update years</th>\n",
              "    </tr>\n",
              "  </thead>\n",
              "  <tbody>\n",
              "    <tr>\n",
              "      <th>445</th>\n",
              "      <td>https://apps.apple.com/us/app/chess-trainer/id...</td>\n",
              "      <td>398398860</td>\n",
              "      <td>Chess Trainer</td>\n",
              "      <td>No Subtitle</td>\n",
              "      <td>https://is3-ssl.mzstatic.com/image/thumb/Purpl...</td>\n",
              "      <td>3.5</td>\n",
              "      <td>113.0</td>\n",
              "      <td>0.0</td>\n",
              "      <td>1.69</td>\n",
              "      <td>\"Good work, uh, tremendous work done by develo...</td>\n",
              "      <td>...</td>\n",
              "      <td>Games</td>\n",
              "      <td>[Board, Entertainment, Games, Strategy]</td>\n",
              "      <td>2010-02-12</td>\n",
              "      <td>2019-12-07</td>\n",
              "      <td>4857</td>\n",
              "      <td>160</td>\n",
              "      <td>13</td>\n",
              "      <td>1272</td>\n",
              "      <td>42</td>\n",
              "      <td>4</td>\n",
              "    </tr>\n",
              "    <tr>\n",
              "      <th>874</th>\n",
              "      <td>https://apps.apple.com/us/app/othello-the-offi...</td>\n",
              "      <td>466399294</td>\n",
              "      <td>Othello - The Official Game</td>\n",
              "      <td>Has Subtitle</td>\n",
              "      <td>https://is5-ssl.mzstatic.com/image/thumb/Purpl...</td>\n",
              "      <td>4.5</td>\n",
              "      <td>4523.0</td>\n",
              "      <td>0.0</td>\n",
              "      <td>2.49</td>\n",
              "      <td>Play the official LITE Games version of the po...</td>\n",
              "      <td>...</td>\n",
              "      <td>Games</td>\n",
              "      <td>[Board, Entertainment, Games, Strategy]</td>\n",
              "      <td>2011-09-30</td>\n",
              "      <td>2019-12-07</td>\n",
              "      <td>4262</td>\n",
              "      <td>141</td>\n",
              "      <td>12</td>\n",
              "      <td>1272</td>\n",
              "      <td>42</td>\n",
              "      <td>4</td>\n",
              "    </tr>\n",
              "    <tr>\n",
              "      <th>2086</th>\n",
              "      <td>https://apps.apple.com/us/app/bloons-td-battle...</td>\n",
              "      <td>624533261</td>\n",
              "      <td>Bloons TD Battles</td>\n",
              "      <td>Has Subtitle</td>\n",
              "      <td>https://is2-ssl.mzstatic.com/image/thumb/Purpl...</td>\n",
              "      <td>4.5</td>\n",
              "      <td>219230.0</td>\n",
              "      <td>0.0</td>\n",
              "      <td>5.59</td>\n",
              "      <td>Play the top-rated tower defense franchise in ...</td>\n",
              "      <td>...</td>\n",
              "      <td>Games</td>\n",
              "      <td>[Action, Entertainment, Games, Strategy]</td>\n",
              "      <td>2013-07-18</td>\n",
              "      <td>2019-12-07</td>\n",
              "      <td>3605</td>\n",
              "      <td>119</td>\n",
              "      <td>10</td>\n",
              "      <td>1272</td>\n",
              "      <td>42</td>\n",
              "      <td>4</td>\n",
              "    </tr>\n",
              "    <tr>\n",
              "      <th>4640</th>\n",
              "      <td>https://apps.apple.com/us/app/monster-battles-...</td>\n",
              "      <td>918520173</td>\n",
              "      <td>Monster Battles: TCG</td>\n",
              "      <td>Has Subtitle</td>\n",
              "      <td>https://is5-ssl.mzstatic.com/image/thumb/Purpl...</td>\n",
              "      <td>4.5</td>\n",
              "      <td>299.0</td>\n",
              "      <td>0.0</td>\n",
              "      <td>2.69</td>\n",
              "      <td>Monster Battles: TCG is a free-to-play collect...</td>\n",
              "      <td>...</td>\n",
              "      <td>Games</td>\n",
              "      <td>[Card, Entertainment, Games, Strategy]</td>\n",
              "      <td>2015-08-01</td>\n",
              "      <td>2019-12-07</td>\n",
              "      <td>2861</td>\n",
              "      <td>94</td>\n",
              "      <td>8</td>\n",
              "      <td>1272</td>\n",
              "      <td>42</td>\n",
              "      <td>4</td>\n",
              "    </tr>\n",
              "    <tr>\n",
              "      <th>7506</th>\n",
              "      <td>https://apps.apple.com/us/app/minesweeper-xl-c...</td>\n",
              "      <td>1067644217</td>\n",
              "      <td>Minesweeper XL classic + undo</td>\n",
              "      <td>Has Subtitle</td>\n",
              "      <td>https://is3-ssl.mzstatic.com/image/thumb/Purpl...</td>\n",
              "      <td>4.5</td>\n",
              "      <td>275.0</td>\n",
              "      <td>0.0</td>\n",
              "      <td>7.99</td>\n",
              "      <td>Extra large minesweeper is here for you!\\n\\nIt...</td>\n",
              "      <td>...</td>\n",
              "      <td>Games</td>\n",
              "      <td>[Board, Entertainment, Games, Strategy]</td>\n",
              "      <td>2016-09-01</td>\n",
              "      <td>2019-12-07</td>\n",
              "      <td>2464</td>\n",
              "      <td>81</td>\n",
              "      <td>7</td>\n",
              "      <td>1272</td>\n",
              "      <td>42</td>\n",
              "      <td>4</td>\n",
              "    </tr>\n",
              "    <tr>\n",
              "      <th>7960</th>\n",
              "      <td>https://apps.apple.com/us/app/brick-puzzle-blo...</td>\n",
              "      <td>1086524892</td>\n",
              "      <td>Brick Puzzle - Block Mania</td>\n",
              "      <td>Has Subtitle</td>\n",
              "      <td>https://is2-ssl.mzstatic.com/image/thumb/Purpl...</td>\n",
              "      <td>4.0</td>\n",
              "      <td>11.0</td>\n",
              "      <td>0.0</td>\n",
              "      <td>0.0</td>\n",
              "      <td>Block Puzzle \\u2013 Wood Puzzle Game is a wood...</td>\n",
              "      <td>...</td>\n",
              "      <td>Games</td>\n",
              "      <td>[Entertainment, Games, Puzzle, Strategy]</td>\n",
              "      <td>2016-02-25</td>\n",
              "      <td>2019-12-07</td>\n",
              "      <td>2653</td>\n",
              "      <td>88</td>\n",
              "      <td>7</td>\n",
              "      <td>1272</td>\n",
              "      <td>42</td>\n",
              "      <td>4</td>\n",
              "    </tr>\n",
              "    <tr>\n",
              "      <th>9286</th>\n",
              "      <td>https://apps.apple.com/us/app/kickoff-football...</td>\n",
              "      <td>1139112644</td>\n",
              "      <td>Kickoff - Football prediction</td>\n",
              "      <td>Has Subtitle</td>\n",
              "      <td>https://is4-ssl.mzstatic.com/image/thumb/Purpl...</td>\n",
              "      <td>0.0</td>\n",
              "      <td>0.0</td>\n",
              "      <td>0.0</td>\n",
              "      <td>0.0</td>\n",
              "      <td>\"Predict football scores with your friends. Ki...</td>\n",
              "      <td>...</td>\n",
              "      <td>Sports</td>\n",
              "      <td>[Games, Sports, Sports, Strategy]</td>\n",
              "      <td>2018-06-23</td>\n",
              "      <td>2019-12-07</td>\n",
              "      <td>1804</td>\n",
              "      <td>60</td>\n",
              "      <td>5</td>\n",
              "      <td>1272</td>\n",
              "      <td>42</td>\n",
              "      <td>4</td>\n",
              "    </tr>\n",
              "    <tr>\n",
              "      <th>9324</th>\n",
              "      <td>https://apps.apple.com/us/app/star-quest-tcg/i...</td>\n",
              "      <td>1140168552</td>\n",
              "      <td>Star Quest: TCG</td>\n",
              "      <td>Has Subtitle</td>\n",
              "      <td>https://is4-ssl.mzstatic.com/image/thumb/Purpl...</td>\n",
              "      <td>5.0</td>\n",
              "      <td>17.0</td>\n",
              "      <td>0.0</td>\n",
              "      <td>4.69</td>\n",
              "      <td>Join Star Quest: TCG\\u2019s Universe: amazing ...</td>\n",
              "      <td>...</td>\n",
              "      <td>Games</td>\n",
              "      <td>[Card, Entertainment, Games, Strategy]</td>\n",
              "      <td>2018-12-03</td>\n",
              "      <td>2019-12-07</td>\n",
              "      <td>1641</td>\n",
              "      <td>54</td>\n",
              "      <td>5</td>\n",
              "      <td>1272</td>\n",
              "      <td>42</td>\n",
              "      <td>4</td>\n",
              "    </tr>\n",
              "    <tr>\n",
              "      <th>9381</th>\n",
              "      <td>https://apps.apple.com/us/app/crazy-rolling-he...</td>\n",
              "      <td>1142106736</td>\n",
              "      <td>Crazy Rolling Hero</td>\n",
              "      <td>Has Subtitle</td>\n",
              "      <td>https://is1-ssl.mzstatic.com/image/thumb/Purpl...</td>\n",
              "      <td>5.0</td>\n",
              "      <td>10776.0</td>\n",
              "      <td>0.0</td>\n",
              "      <td>0.0</td>\n",
              "      <td>Roll through touch left and right, rotating ea...</td>\n",
              "      <td>...</td>\n",
              "      <td>Games</td>\n",
              "      <td>[Entertainment, Games, Puzzle, Strategy]</td>\n",
              "      <td>2016-06-09</td>\n",
              "      <td>2019-12-07</td>\n",
              "      <td>2548</td>\n",
              "      <td>84</td>\n",
              "      <td>7</td>\n",
              "      <td>1272</td>\n",
              "      <td>42</td>\n",
              "      <td>4</td>\n",
              "    </tr>\n",
              "    <tr>\n",
              "      <th>10837</th>\n",
              "      <td>https://apps.apple.com/us/app/space-colonizers...</td>\n",
              "      <td>1197960176</td>\n",
              "      <td>Space Colonizers Idle Clicker</td>\n",
              "      <td>Has Subtitle</td>\n",
              "      <td>https://is4-ssl.mzstatic.com/image/thumb/Purpl...</td>\n",
              "      <td>4.5</td>\n",
              "      <td>1517.0</td>\n",
              "      <td>0.0</td>\n",
              "      <td>21.04</td>\n",
              "      <td>\"Space Colonizers has been selected as an Indi...</td>\n",
              "      <td>...</td>\n",
              "      <td>Games</td>\n",
              "      <td>[Entertainment, Games, Simulation, Strategy]</td>\n",
              "      <td>2017-07-06</td>\n",
              "      <td>2019-12-07</td>\n",
              "      <td>2156</td>\n",
              "      <td>71</td>\n",
              "      <td>6</td>\n",
              "      <td>1272</td>\n",
              "      <td>42</td>\n",
              "      <td>4</td>\n",
              "    </tr>\n",
              "    <tr>\n",
              "      <th>12434</th>\n",
              "      <td>https://apps.apple.com/us/app/wartide-heroes-o...</td>\n",
              "      <td>1268498553</td>\n",
              "      <td>Wartide: Heroes of Atlantis</td>\n",
              "      <td>Has Subtitle</td>\n",
              "      <td>https://is5-ssl.mzstatic.com/image/thumb/Purpl...</td>\n",
              "      <td>4.5</td>\n",
              "      <td>1707.0</td>\n",
              "      <td>0.0</td>\n",
              "      <td>22.79</td>\n",
              "      <td>\"The ultimate strategy battling RPG you have b...</td>\n",
              "      <td>...</td>\n",
              "      <td>Games</td>\n",
              "      <td>[Games, Role Playing, Strategy]</td>\n",
              "      <td>2017-10-25</td>\n",
              "      <td>2019-12-07</td>\n",
              "      <td>2045</td>\n",
              "      <td>68</td>\n",
              "      <td>6</td>\n",
              "      <td>1272</td>\n",
              "      <td>42</td>\n",
              "      <td>4</td>\n",
              "    </tr>\n",
              "    <tr>\n",
              "      <th>12473</th>\n",
              "      <td>https://apps.apple.com/us/app/cash-inc-fame-fo...</td>\n",
              "      <td>1270598321</td>\n",
              "      <td>Cash, Inc. Fame &amp; Fortune Game</td>\n",
              "      <td>Has Subtitle</td>\n",
              "      <td>https://is3-ssl.mzstatic.com/image/thumb/Purpl...</td>\n",
              "      <td>5.0</td>\n",
              "      <td>374772.0</td>\n",
              "      <td>0.0</td>\n",
              "      <td>10.99</td>\n",
              "      <td>\"Embark on the ultimate idle clicker adventure...</td>\n",
              "      <td>...</td>\n",
              "      <td>Games</td>\n",
              "      <td>[Entertainment, Games, Simulation, Strategy]</td>\n",
              "      <td>2017-06-10</td>\n",
              "      <td>2019-12-07</td>\n",
              "      <td>2182</td>\n",
              "      <td>72</td>\n",
              "      <td>6</td>\n",
              "      <td>1272</td>\n",
              "      <td>42</td>\n",
              "      <td>4</td>\n",
              "    </tr>\n",
              "    <tr>\n",
              "      <th>12959</th>\n",
              "      <td>https://apps.apple.com/us/app/merge-star/id129...</td>\n",
              "      <td>1298579909</td>\n",
              "      <td>Merge Star</td>\n",
              "      <td>Has Subtitle</td>\n",
              "      <td>https://is5-ssl.mzstatic.com/image/thumb/Purpl...</td>\n",
              "      <td>4.5</td>\n",
              "      <td>280.0</td>\n",
              "      <td>0.0</td>\n",
              "      <td>20.29</td>\n",
              "      <td>In a time not too long ago, there was a warrio...</td>\n",
              "      <td>...</td>\n",
              "      <td>Games</td>\n",
              "      <td>[Adventure, Entertainment, Games, Strategy]</td>\n",
              "      <td>2018-03-26</td>\n",
              "      <td>2019-12-07</td>\n",
              "      <td>1893</td>\n",
              "      <td>63</td>\n",
              "      <td>5</td>\n",
              "      <td>1272</td>\n",
              "      <td>42</td>\n",
              "      <td>4</td>\n",
              "    </tr>\n",
              "    <tr>\n",
              "      <th>13467</th>\n",
              "      <td>https://apps.apple.com/us/app/bubble-magic-gem...</td>\n",
              "      <td>1332605733</td>\n",
              "      <td>Bubble Magic Gem</td>\n",
              "      <td>No Subtitle</td>\n",
              "      <td>https://is4-ssl.mzstatic.com/image/thumb/Purpl...</td>\n",
              "      <td>5.0</td>\n",
              "      <td>9.0</td>\n",
              "      <td>0.0</td>\n",
              "      <td>1.99</td>\n",
              "      <td>This is the best bubble shooter puzzle game !\\...</td>\n",
              "      <td>...</td>\n",
              "      <td>Games</td>\n",
              "      <td>[Entertainment, Games, Puzzle, Strategy]</td>\n",
              "      <td>2019-07-06</td>\n",
              "      <td>2019-12-07</td>\n",
              "      <td>1426</td>\n",
              "      <td>47</td>\n",
              "      <td>4</td>\n",
              "      <td>1272</td>\n",
              "      <td>42</td>\n",
              "      <td>4</td>\n",
              "    </tr>\n",
              "    <tr>\n",
              "      <th>15138</th>\n",
              "      <td>https://apps.apple.com/us/app/sw-ay/id1436075375</td>\n",
              "      <td>1436075375</td>\n",
              "      <td>SW:AY</td>\n",
              "      <td>Has Subtitle</td>\n",
              "      <td>https://is2-ssl.mzstatic.com/image/thumb/Purpl...</td>\n",
              "      <td>0.0</td>\n",
              "      <td>0.0</td>\n",
              "      <td>0.0</td>\n",
              "      <td>0.0</td>\n",
              "      <td>SW:AY, play pong against AI. How long can you ...</td>\n",
              "      <td>...</td>\n",
              "      <td>Games</td>\n",
              "      <td>[Casual, Entertainment, Games, Strategy]</td>\n",
              "      <td>2019-06-22</td>\n",
              "      <td>2019-12-07</td>\n",
              "      <td>1440</td>\n",
              "      <td>48</td>\n",
              "      <td>4</td>\n",
              "      <td>1272</td>\n",
              "      <td>42</td>\n",
              "      <td>4</td>\n",
              "    </tr>\n",
              "    <tr>\n",
              "      <th>15375</th>\n",
              "      <td>https://apps.apple.com/us/app/alicia-quatermai...</td>\n",
              "      <td>1439427834</td>\n",
              "      <td>Alicia Quatermain 2 (Platinum)</td>\n",
              "      <td>Has Subtitle</td>\n",
              "      <td>https://is4-ssl.mzstatic.com/image/thumb/Purpl...</td>\n",
              "      <td>5.0</td>\n",
              "      <td>56.0</td>\n",
              "      <td>0.0</td>\n",
              "      <td>5.99</td>\n",
              "      <td>The NEW game in the Alicia Quatermain series i...</td>\n",
              "      <td>...</td>\n",
              "      <td>Games</td>\n",
              "      <td>[Adventure, Games, Strategy]</td>\n",
              "      <td>2019-06-26</td>\n",
              "      <td>2019-12-07</td>\n",
              "      <td>1436</td>\n",
              "      <td>48</td>\n",
              "      <td>4</td>\n",
              "      <td>1272</td>\n",
              "      <td>42</td>\n",
              "      <td>4</td>\n",
              "    </tr>\n",
              "    <tr>\n",
              "      <th>15452</th>\n",
              "      <td>https://apps.apple.com/us/app/idle-cook-cookin...</td>\n",
              "      <td>1440734832</td>\n",
              "      <td>Idle Cook: CookingGames Tycoon</td>\n",
              "      <td>Has Subtitle</td>\n",
              "      <td>https://is2-ssl.mzstatic.com/image/thumb/Purpl...</td>\n",
              "      <td>4.5</td>\n",
              "      <td>1145.0</td>\n",
              "      <td>0.0</td>\n",
              "      <td>18.09</td>\n",
              "      <td>\"To fill up your appetite, what you need is no...</td>\n",
              "      <td>...</td>\n",
              "      <td>Games</td>\n",
              "      <td>[Entertainment, Games, Simulation, Strategy]</td>\n",
              "      <td>2018-11-22</td>\n",
              "      <td>2019-12-07</td>\n",
              "      <td>1652</td>\n",
              "      <td>55</td>\n",
              "      <td>5</td>\n",
              "      <td>1272</td>\n",
              "      <td>42</td>\n",
              "      <td>4</td>\n",
              "    </tr>\n",
              "    <tr>\n",
              "      <th>15944</th>\n",
              "      <td>https://apps.apple.com/us/app/ultras-the-game/...</td>\n",
              "      <td>1449714073</td>\n",
              "      <td>Ultras The Game</td>\n",
              "      <td>No Subtitle</td>\n",
              "      <td>https://is1-ssl.mzstatic.com/image/thumb/Purpl...</td>\n",
              "      <td>0.0</td>\n",
              "      <td>0.0</td>\n",
              "      <td>0.0</td>\n",
              "      <td>7.59</td>\n",
              "      <td>\"Tired of conventional Football Game? \\n\\nBe a...</td>\n",
              "      <td>...</td>\n",
              "      <td>Games</td>\n",
              "      <td>[Games, Sports, Strategy]</td>\n",
              "      <td>2019-01-07</td>\n",
              "      <td>2019-12-07</td>\n",
              "      <td>1606</td>\n",
              "      <td>53</td>\n",
              "      <td>4</td>\n",
              "      <td>1272</td>\n",
              "      <td>42</td>\n",
              "      <td>4</td>\n",
              "    </tr>\n",
              "    <tr>\n",
              "      <th>16171</th>\n",
              "      <td>https://apps.apple.com/us/app/idle-convoy-vs-z...</td>\n",
              "      <td>1453961597</td>\n",
              "      <td>Idle Convoy VS Zombies Inc</td>\n",
              "      <td>Has Subtitle</td>\n",
              "      <td>https://is5-ssl.mzstatic.com/image/thumb/Purpl...</td>\n",
              "      <td>4.5</td>\n",
              "      <td>329.0</td>\n",
              "      <td>0.0</td>\n",
              "      <td>3.99</td>\n",
              "      <td>Hundreds of years later, the world is dominate...</td>\n",
              "      <td>...</td>\n",
              "      <td>Games</td>\n",
              "      <td>[Adventure, Entertainment, Games, Strategy]</td>\n",
              "      <td>2019-05-27</td>\n",
              "      <td>2019-12-07</td>\n",
              "      <td>1466</td>\n",
              "      <td>49</td>\n",
              "      <td>4</td>\n",
              "      <td>1272</td>\n",
              "      <td>42</td>\n",
              "      <td>4</td>\n",
              "    </tr>\n",
              "    <tr>\n",
              "      <th>16378</th>\n",
              "      <td>https://apps.apple.com/us/app/kingdom-of-legio...</td>\n",
              "      <td>1458084482</td>\n",
              "      <td>Kingdom of Legion</td>\n",
              "      <td>No Subtitle</td>\n",
              "      <td>https://is4-ssl.mzstatic.com/image/thumb/Purpl...</td>\n",
              "      <td>0.0</td>\n",
              "      <td>0.0</td>\n",
              "      <td>0.0</td>\n",
              "      <td>23.365</td>\n",
              "      <td>Kingdom of Legion is a fantasy strategy game.\\...</td>\n",
              "      <td>...</td>\n",
              "      <td>Games</td>\n",
              "      <td>[Games, Simulation, Strategy]</td>\n",
              "      <td>2019-09-04</td>\n",
              "      <td>2019-12-07</td>\n",
              "      <td>1366</td>\n",
              "      <td>45</td>\n",
              "      <td>4</td>\n",
              "      <td>1272</td>\n",
              "      <td>42</td>\n",
              "      <td>4</td>\n",
              "    </tr>\n",
              "    <tr>\n",
              "      <th>16627</th>\n",
              "      <td>https://apps.apple.com/us/app/glowing-heart-pu...</td>\n",
              "      <td>1464393287</td>\n",
              "      <td>Glowing Heart Puzzle</td>\n",
              "      <td>Has Subtitle</td>\n",
              "      <td>https://is3-ssl.mzstatic.com/image/thumb/Purpl...</td>\n",
              "      <td>0.0</td>\n",
              "      <td>0.0</td>\n",
              "      <td>0.0</td>\n",
              "      <td>0.0</td>\n",
              "      <td>\"Glowing Heart Puzzle is a simple and addictiv...</td>\n",
              "      <td>...</td>\n",
              "      <td>Games</td>\n",
              "      <td>[Games, Puzzle, Strategy]</td>\n",
              "      <td>2019-06-26</td>\n",
              "      <td>2019-12-07</td>\n",
              "      <td>1436</td>\n",
              "      <td>48</td>\n",
              "      <td>4</td>\n",
              "      <td>1272</td>\n",
              "      <td>42</td>\n",
              "      <td>4</td>\n",
              "    </tr>\n",
              "    <tr>\n",
              "      <th>16696</th>\n",
              "      <td>https://apps.apple.com/us/app/idle-fishing-tyc...</td>\n",
              "      <td>1466050156</td>\n",
              "      <td>Idle Fishing Tycoon</td>\n",
              "      <td>Has Subtitle</td>\n",
              "      <td>https://is5-ssl.mzstatic.com/image/thumb/Purpl...</td>\n",
              "      <td>0.0</td>\n",
              "      <td>0.0</td>\n",
              "      <td>0.0</td>\n",
              "      <td>0.0</td>\n",
              "      <td>Ready to be rich?\\n\\nBecome the richest fishin...</td>\n",
              "      <td>...</td>\n",
              "      <td>Games</td>\n",
              "      <td>[Games, Simulation, Strategy]</td>\n",
              "      <td>2019-05-06</td>\n",
              "      <td>2019-12-07</td>\n",
              "      <td>1487</td>\n",
              "      <td>49</td>\n",
              "      <td>4</td>\n",
              "      <td>1272</td>\n",
              "      <td>42</td>\n",
              "      <td>4</td>\n",
              "    </tr>\n",
              "    <tr>\n",
              "      <th>16927</th>\n",
              "      <td>https://apps.apple.com/us/app/stack-ball-3d-to...</td>\n",
              "      <td>1472587655</td>\n",
              "      <td>Stack Ball 3D -Tower Breaker</td>\n",
              "      <td>Has Subtitle</td>\n",
              "      <td>https://is3-ssl.mzstatic.com/image/thumb/Purpl...</td>\n",
              "      <td>0.0</td>\n",
              "      <td>0.0</td>\n",
              "      <td>0.0</td>\n",
              "      <td>0.0</td>\n",
              "      <td>Twist Ball Crush Choose your strategy: speed u...</td>\n",
              "      <td>...</td>\n",
              "      <td>Games</td>\n",
              "      <td>[Entertainment, Games, Puzzle, Strategy]</td>\n",
              "      <td>2019-12-07</td>\n",
              "      <td>2019-12-07</td>\n",
              "      <td>1272</td>\n",
              "      <td>42</td>\n",
              "      <td>4</td>\n",
              "      <td>1272</td>\n",
              "      <td>42</td>\n",
              "      <td>4</td>\n",
              "    </tr>\n",
              "  </tbody>\n",
              "</table>\n",
              "<p>23 rows × 24 columns</p>\n",
              "</div>\n",
              "      <button class=\"colab-df-convert\" onclick=\"convertToInteractive('df-7afa89f6-bc39-48a5-a56c-61c0e54e51b7')\"\n",
              "              title=\"Convert this dataframe to an interactive table.\"\n",
              "              style=\"display:none;\">\n",
              "        \n",
              "  <svg xmlns=\"http://www.w3.org/2000/svg\" height=\"24px\"viewBox=\"0 0 24 24\"\n",
              "       width=\"24px\">\n",
              "    <path d=\"M0 0h24v24H0V0z\" fill=\"none\"/>\n",
              "    <path d=\"M18.56 5.44l.94 2.06.94-2.06 2.06-.94-2.06-.94-.94-2.06-.94 2.06-2.06.94zm-11 1L8.5 8.5l.94-2.06 2.06-.94-2.06-.94L8.5 2.5l-.94 2.06-2.06.94zm10 10l.94 2.06.94-2.06 2.06-.94-2.06-.94-.94-2.06-.94 2.06-2.06.94z\"/><path d=\"M17.41 7.96l-1.37-1.37c-.4-.4-.92-.59-1.43-.59-.52 0-1.04.2-1.43.59L10.3 9.45l-7.72 7.72c-.78.78-.78 2.05 0 2.83L4 21.41c.39.39.9.59 1.41.59.51 0 1.02-.2 1.41-.59l7.78-7.78 2.81-2.81c.8-.78.8-2.07 0-2.86zM5.41 20L4 18.59l7.72-7.72 1.47 1.35L5.41 20z\"/>\n",
              "  </svg>\n",
              "      </button>\n",
              "      \n",
              "  <style>\n",
              "    .colab-df-container {\n",
              "      display:flex;\n",
              "      flex-wrap:wrap;\n",
              "      gap: 12px;\n",
              "    }\n",
              "\n",
              "    .colab-df-convert {\n",
              "      background-color: #E8F0FE;\n",
              "      border: none;\n",
              "      border-radius: 50%;\n",
              "      cursor: pointer;\n",
              "      display: none;\n",
              "      fill: #1967D2;\n",
              "      height: 32px;\n",
              "      padding: 0 0 0 0;\n",
              "      width: 32px;\n",
              "    }\n",
              "\n",
              "    .colab-df-convert:hover {\n",
              "      background-color: #E2EBFA;\n",
              "      box-shadow: 0px 1px 2px rgba(60, 64, 67, 0.3), 0px 1px 3px 1px rgba(60, 64, 67, 0.15);\n",
              "      fill: #174EA6;\n",
              "    }\n",
              "\n",
              "    [theme=dark] .colab-df-convert {\n",
              "      background-color: #3B4455;\n",
              "      fill: #D2E3FC;\n",
              "    }\n",
              "\n",
              "    [theme=dark] .colab-df-convert:hover {\n",
              "      background-color: #434B5C;\n",
              "      box-shadow: 0px 1px 3px 1px rgba(0, 0, 0, 0.15);\n",
              "      filter: drop-shadow(0px 1px 2px rgba(0, 0, 0, 0.3));\n",
              "      fill: #FFFFFF;\n",
              "    }\n",
              "  </style>\n",
              "\n",
              "      <script>\n",
              "        const buttonEl =\n",
              "          document.querySelector('#df-7afa89f6-bc39-48a5-a56c-61c0e54e51b7 button.colab-df-convert');\n",
              "        buttonEl.style.display =\n",
              "          google.colab.kernel.accessAllowed ? 'block' : 'none';\n",
              "\n",
              "        async function convertToInteractive(key) {\n",
              "          const element = document.querySelector('#df-7afa89f6-bc39-48a5-a56c-61c0e54e51b7');\n",
              "          const dataTable =\n",
              "            await google.colab.kernel.invokeFunction('convertToInteractive',\n",
              "                                                     [key], {});\n",
              "          if (!dataTable) return;\n",
              "\n",
              "          const docLinkHtml = 'Like what you see? Visit the ' +\n",
              "            '<a target=\"_blank\" href=https://colab.research.google.com/notebooks/data_table.ipynb>data table notebook</a>'\n",
              "            + ' to learn more about interactive tables.';\n",
              "          element.innerHTML = '';\n",
              "          dataTable['output_type'] = 'display_data';\n",
              "          await google.colab.output.renderOutput(dataTable, element);\n",
              "          const docLink = document.createElement('div');\n",
              "          docLink.innerHTML = docLinkHtml;\n",
              "          element.appendChild(docLink);\n",
              "        }\n",
              "      </script>\n",
              "    </div>\n",
              "  </div>\n",
              "  "
            ]
          },
          "metadata": {},
          "execution_count": 294
        }
      ],
      "source": [
        "df[df['Latest update days'] == min(df['Latest update days'])]"
      ]
    },
    {
      "cell_type": "markdown",
      "source": [
        "In conclusion, among the applications mentioned, such as Chess Trainer released on February 12, 2010 and Othello - The Official Game released on September 30, 2011, there are a total of 23 apps that had their latest update on December 7, 2019. Given that the data was uploaded on August 3, 2019, it is reasonable that the last update is around four years ago, as mentioned."
      ],
      "metadata": {
        "id": "Ss-EiOSii0QO"
      }
    },
    {
      "cell_type": "markdown",
      "metadata": {
        "id": "TLNqaaDlrUK2"
      },
      "source": [
        "##5. What variables affect app rating?"
      ]
    },
    {
      "cell_type": "markdown",
      "source": [
        "To identify the variables that influence the app rating, the initial step is creating a dummy variable for a categorical column."
      ],
      "metadata": {
        "id": "YSkj003sEBXg"
      }
    },
    {
      "cell_type": "code",
      "execution_count": null,
      "metadata": {
        "colab": {
          "base_uri": "https://localhost:8080/"
        },
        "id": "OE2ToBpSrUK2",
        "outputId": "7cc358f7-02dd-44c9-d456-ea968a3219a2"
      },
      "outputs": [
        {
          "output_type": "execute_result",
          "data": {
            "text/plain": [
              "(16847, 46)"
            ]
          },
          "metadata": {},
          "execution_count": 295
        }
      ],
      "source": [
        "df = pd.get_dummies(data=df, columns=['Subtitle','Languages','Primary Genre'])\n",
        "# Check the shape\n",
        "df.shape"
      ]
    },
    {
      "cell_type": "markdown",
      "source": [
        "We assign `X` to represent the independent column, then we drop the unnecessary columns in the dataframe for `X`"
      ],
      "metadata": {
        "id": "ZxrRJG2kEN6f"
      }
    },
    {
      "cell_type": "code",
      "execution_count": null,
      "metadata": {
        "id": "4QzMFf4nrUK3"
      },
      "outputs": [],
      "source": [
        "X = df.drop(['Average User Rating','URL','ID','Name','Icon URL','Description','Developer','Genres','Original Release Date','Current Version Release Date','Original release months','Original release years','Latest update years','Latest update months'], axis=1)\n",
        "y = df['Average User Rating']"
      ]
    },
    {
      "cell_type": "markdown",
      "source": [
        "Next, we split the data into `X_train`, `X_test`, `y_train` and `y_test` using the `train_test_split` function with a `test_size` of 0.3 and a `random_state` of 42.\n",
        "\n",
        "\n",
        "Note : Setting the `random_state` parameter to 42 in the code allows consistent results across multiple runs."
      ],
      "metadata": {
        "id": "rrIlf2AsEOLV"
      }
    },
    {
      "cell_type": "code",
      "execution_count": null,
      "metadata": {
        "id": "fQLnjSMcrUK3",
        "colab": {
          "base_uri": "https://localhost:8080/"
        },
        "outputId": "1a1d5d79-ed6c-4138-c92c-863b008e9191"
      },
      "outputs": [
        {
          "output_type": "execute_result",
          "data": {
            "text/plain": [
              "((13477, 32), (3370, 32))"
            ]
          },
          "metadata": {},
          "execution_count": 297
        }
      ],
      "source": [
        "X_train, X_test, y_train, y_test = train_test_split(X, y, test_size = 0.2, random_state = 42)\n",
        "# Check the shape\n",
        "X_train.shape, X_test.shape"
      ]
    },
    {
      "cell_type": "markdown",
      "source": [
        "We normalize the data using the `MinMaxScaler()` function."
      ],
      "metadata": {
        "id": "CNb5GOAvEOV3"
      }
    },
    {
      "cell_type": "code",
      "execution_count": null,
      "metadata": {
        "id": "WReSgSsYrUK3"
      },
      "outputs": [],
      "source": [
        "scaler = MinMaxScaler()\n",
        "X_train = scaler.fit_transform(X_train)\n",
        "X_test = scaler.transform(X_test)"
      ]
    },
    {
      "cell_type": "markdown",
      "source": [
        "Next, we perform a Decision Tree regression to determine the variables that impact the app rating."
      ],
      "metadata": {
        "id": "Xip_ZBtriVho"
      }
    },
    {
      "cell_type": "code",
      "source": [
        "from sklearn.tree import DecisionTreeRegressor \n",
        "  \n",
        "# Create a regressor object\n",
        "dt_regressor = DecisionTreeRegressor(random_state = 0) \n",
        "  \n",
        "# Fit the regressor with X_train and y_train\n",
        "dt_regressor.fit(X_train, y_train)\n",
        "# Get importance\n",
        "importance = dt_regressor.feature_importances_\n",
        "# Summarize feature importance\n",
        "for i,v in enumerate(importance):\n",
        "  \n",
        " print('Feature: %0d, Score: %.5f' % (i,v))\n",
        "# Plot feature importance\n",
        "pyplot.bar([x for x in range(len(importance))], importance)\n",
        "pyplot.show()\n",
        "\n"
      ],
      "metadata": {
        "colab": {
          "base_uri": "https://localhost:8080/",
          "height": 990
        },
        "id": "oeB1unpRhjTA",
        "outputId": "1a86d010-c118-4c18-e5f0-2eddc86f0dd7"
      },
      "execution_count": null,
      "outputs": [
        {
          "output_type": "stream",
          "name": "stdout",
          "text": [
            "Feature: 0, Score: 0.95253\n",
            "Feature: 1, Score: 0.00194\n",
            "Feature: 2, Score: 0.00524\n",
            "Feature: 3, Score: 0.00169\n",
            "Feature: 4, Score: 0.01218\n",
            "Feature: 5, Score: 0.01334\n",
            "Feature: 6, Score: 0.01097\n",
            "Feature: 7, Score: 0.00046\n",
            "Feature: 8, Score: 0.00046\n",
            "Feature: 9, Score: 0.00002\n",
            "Feature: 10, Score: 0.00003\n",
            "Feature: 11, Score: 0.00000\n",
            "Feature: 12, Score: 0.00000\n",
            "Feature: 13, Score: 0.00003\n",
            "Feature: 14, Score: 0.00028\n",
            "Feature: 15, Score: 0.00010\n",
            "Feature: 16, Score: 0.00000\n",
            "Feature: 17, Score: 0.00036\n",
            "Feature: 18, Score: 0.00000\n",
            "Feature: 19, Score: 0.00003\n",
            "Feature: 20, Score: 0.00000\n",
            "Feature: 21, Score: 0.00000\n",
            "Feature: 22, Score: 0.00000\n",
            "Feature: 23, Score: 0.00000\n",
            "Feature: 24, Score: 0.00020\n",
            "Feature: 25, Score: 0.00004\n",
            "Feature: 26, Score: 0.00000\n",
            "Feature: 27, Score: 0.00000\n",
            "Feature: 28, Score: 0.00000\n",
            "Feature: 29, Score: 0.00000\n",
            "Feature: 30, Score: 0.00000\n",
            "Feature: 31, Score: 0.00008\n"
          ]
        },
        {
          "output_type": "display_data",
          "data": {
            "text/plain": [
              "<Figure size 640x480 with 1 Axes>"
            ],
            "image/png": "[encoded data removed]"
          },
          "metadata": {}
        }
      ]
    },
    {
      "cell_type": "code",
      "source": [
        "print(dt_regressor.feature_importances_)"
      ],
      "metadata": {
        "colab": {
          "base_uri": "https://localhost:8080/"
        },
        "id": "VCaqyi9Nkone",
        "outputId": "f7e604fa-d1bc-4e8b-95e2-0ac0160aec20"
      },
      "execution_count": null,
      "outputs": [
        {
          "output_type": "stream",
          "name": "stdout",
          "text": [
            "[9.52525538e-01 1.93656178e-03 5.24087052e-03 1.68526994e-03\n",
            " 1.21844163e-02 1.33435410e-02 1.09735027e-02 4.59228904e-04\n",
            " 4.62440456e-04 2.21687159e-05 3.17653860e-05 4.91087979e-06\n",
            " 0.00000000e+00 2.96569754e-05 2.81056993e-04 9.77452717e-05\n",
            " 0.00000000e+00 3.56211962e-04 0.00000000e+00 3.46071501e-05\n",
            " 0.00000000e+00 0.00000000e+00 0.00000000e+00 0.00000000e+00\n",
            " 2.03287648e-04 4.07892015e-05 0.00000000e+00 0.00000000e+00\n",
            " 2.86467988e-06 0.00000000e+00 0.00000000e+00 8.35655134e-05]\n"
          ]
        }
      ]
    },
    {
      "cell_type": "code",
      "source": [
        "print(dt_regressor.score(X_test,y_test))"
      ],
      "metadata": {
        "colab": {
          "base_uri": "https://localhost:8080/"
        },
        "id": "IQWzU5wDiaUU",
        "outputId": "eba4a74b-7552-4989-e1ec-a451d97c90a5"
      },
      "execution_count": null,
      "outputs": [
        {
          "output_type": "stream",
          "name": "stdout",
          "text": [
            "0.904316666069866\n"
          ]
        }
      ]
    },
    {
      "cell_type": "markdown",
      "source": [
        "We assign the coefficients and column name to a dataframe."
      ],
      "metadata": {
        "id": "thUDn_YBIpfA"
      }
    },
    {
      "cell_type": "code",
      "execution_count": null,
      "metadata": {
        "id": "lbxiY375rUK5"
      },
      "outputs": [],
      "source": [
        "v = pd.DataFrame(importance, columns=['Coefficient'])\n",
        "w = pd.DataFrame(X.columns, columns=['Attribute'])"
      ]
    },
    {
      "cell_type": "code",
      "execution_count": null,
      "metadata": {
        "colab": {
          "base_uri": "https://localhost:8080/",
          "height": 1000
        },
        "id": "4b6SyuWxrUK5",
        "outputId": "e2492beb-03c9-4479-bee7-bfe44adfe747"
      },
      "outputs": [
        {
          "output_type": "execute_result",
          "data": {
            "text/plain": [
              "                          Attribute  Coefficient\n",
              "0                 User Rating Count     0.952526\n",
              "1                             Price     0.001937\n",
              "2                  In-app Purchases     0.005241\n",
              "3                        Age Rating     0.001685\n",
              "4                              Size     0.012184\n",
              "5             Original release days     0.013344\n",
              "6                Latest update days     0.010974\n",
              "7             Subtitle_Has Subtitle     0.000459\n",
              "8              Subtitle_No Subtitle     0.000462\n",
              "9                 Languages_English     0.000022\n",
              "10            Languages_Non English     0.000032\n",
              "11               Primary Genre_Book     0.000005\n",
              "12           Primary Genre_Business     0.000000\n",
              "13          Primary Genre_Education     0.000030\n",
              "14      Primary Genre_Entertainment     0.000281\n",
              "15            Primary Genre_Finance     0.000098\n",
              "16       Primary Genre_Food & Drink     0.000000\n",
              "17              Primary Genre_Games     0.000356\n",
              "18   Primary Genre_Health & Fitness     0.000000\n",
              "19          Primary Genre_Lifestyle     0.000035\n",
              "20            Primary Genre_Medical     0.000000\n",
              "21              Primary Genre_Music     0.000000\n",
              "22         Primary Genre_Navigation     0.000000\n",
              "23               Primary Genre_News     0.000000\n",
              "24       Primary Genre_Productivity     0.000203\n",
              "25          Primary Genre_Reference     0.000041\n",
              "26           Primary Genre_Shopping     0.000000\n",
              "27  Primary Genre_Social Networking     0.000000\n",
              "28             Primary Genre_Sports     0.000003\n",
              "29           Primary Genre_Stickers     0.000000\n",
              "30             Primary Genre_Travel     0.000000\n",
              "31          Primary Genre_Utilities     0.000084"
            ],
            "text/html": [
              "\n",
              "  <div id=\"df-61de5133-838c-4ad4-8fbb-2017c6505dbc\">\n",
              "    <div class=\"colab-df-container\">\n",
              "      <div>\n",
              "<style scoped>\n",
              "    .dataframe tbody tr th:only-of-type {\n",
              "        vertical-align: middle;\n",
              "    }\n",
              "\n",
              "    .dataframe tbody tr th {\n",
              "        vertical-align: top;\n",
              "    }\n",
              "\n",
              "    .dataframe thead th {\n",
              "        text-align: right;\n",
              "    }\n",
              "</style>\n",
              "<table border=\"1\" class=\"dataframe\">\n",
              "  <thead>\n",
              "    <tr style=\"text-align: right;\">\n",
              "      <th></th>\n",
              "      <th>Attribute</th>\n",
              "      <th>Coefficient</th>\n",
              "    </tr>\n",
              "  </thead>\n",
              "  <tbody>\n",
              "    <tr>\n",
              "      <th>0</th>\n",
              "      <td>User Rating Count</td>\n",
              "      <td>0.952526</td>\n",
              "    </tr>\n",
              "    <tr>\n",
              "      <th>1</th>\n",
              "      <td>Price</td>\n",
              "      <td>0.001937</td>\n",
              "    </tr>\n",
              "    <tr>\n",
              "      <th>2</th>\n",
              "      <td>In-app Purchases</td>\n",
              "      <td>0.005241</td>\n",
              "    </tr>\n",
              "    <tr>\n",
              "      <th>3</th>\n",
              "      <td>Age Rating</td>\n",
              "      <td>0.001685</td>\n",
              "    </tr>\n",
              "    <tr>\n",
              "      <th>4</th>\n",
              "      <td>Size</td>\n",
              "      <td>0.012184</td>\n",
              "    </tr>\n",
              "    <tr>\n",
              "      <th>5</th>\n",
              "      <td>Original release days</td>\n",
              "      <td>0.013344</td>\n",
              "    </tr>\n",
              "    <tr>\n",
              "      <th>6</th>\n",
              "      <td>Latest update days</td>\n",
              "      <td>0.010974</td>\n",
              "    </tr>\n",
              "    <tr>\n",
              "      <th>7</th>\n",
              "      <td>Subtitle_Has Subtitle</td>\n",
              "      <td>0.000459</td>\n",
              "    </tr>\n",
              "    <tr>\n",
              "      <th>8</th>\n",
              "      <td>Subtitle_No Subtitle</td>\n",
              "      <td>0.000462</td>\n",
              "    </tr>\n",
              "    <tr>\n",
              "      <th>9</th>\n",
              "      <td>Languages_English</td>\n",
              "      <td>0.000022</td>\n",
              "    </tr>\n",
              "    <tr>\n",
              "      <th>10</th>\n",
              "      <td>Languages_Non English</td>\n",
              "      <td>0.000032</td>\n",
              "    </tr>\n",
              "    <tr>\n",
              "      <th>11</th>\n",
              "      <td>Primary Genre_Book</td>\n",
              "      <td>0.000005</td>\n",
              "    </tr>\n",
              "    <tr>\n",
              "      <th>12</th>\n",
              "      <td>Primary Genre_Business</td>\n",
              "      <td>0.000000</td>\n",
              "    </tr>\n",
              "    <tr>\n",
              "      <th>13</th>\n",
              "      <td>Primary Genre_Education</td>\n",
              "      <td>0.000030</td>\n",
              "    </tr>\n",
              "    <tr>\n",
              "      <th>14</th>\n",
              "      <td>Primary Genre_Entertainment</td>\n",
              "      <td>0.000281</td>\n",
              "    </tr>\n",
              "    <tr>\n",
              "      <th>15</th>\n",
              "      <td>Primary Genre_Finance</td>\n",
              "      <td>0.000098</td>\n",
              "    </tr>\n",
              "    <tr>\n",
              "      <th>16</th>\n",
              "      <td>Primary Genre_Food &amp; Drink</td>\n",
              "      <td>0.000000</td>\n",
              "    </tr>\n",
              "    <tr>\n",
              "      <th>17</th>\n",
              "      <td>Primary Genre_Games</td>\n",
              "      <td>0.000356</td>\n",
              "    </tr>\n",
              "    <tr>\n",
              "      <th>18</th>\n",
              "      <td>Primary Genre_Health &amp; Fitness</td>\n",
              "      <td>0.000000</td>\n",
              "    </tr>\n",
              "    <tr>\n",
              "      <th>19</th>\n",
              "      <td>Primary Genre_Lifestyle</td>\n",
              "      <td>0.000035</td>\n",
              "    </tr>\n",
              "    <tr>\n",
              "      <th>20</th>\n",
              "      <td>Primary Genre_Medical</td>\n",
              "      <td>0.000000</td>\n",
              "    </tr>\n",
              "    <tr>\n",
              "      <th>21</th>\n",
              "      <td>Primary Genre_Music</td>\n",
              "      <td>0.000000</td>\n",
              "    </tr>\n",
              "    <tr>\n",
              "      <th>22</th>\n",
              "      <td>Primary Genre_Navigation</td>\n",
              "      <td>0.000000</td>\n",
              "    </tr>\n",
              "    <tr>\n",
              "      <th>23</th>\n",
              "      <td>Primary Genre_News</td>\n",
              "      <td>0.000000</td>\n",
              "    </tr>\n",
              "    <tr>\n",
              "      <th>24</th>\n",
              "      <td>Primary Genre_Productivity</td>\n",
              "      <td>0.000203</td>\n",
              "    </tr>\n",
              "    <tr>\n",
              "      <th>25</th>\n",
              "      <td>Primary Genre_Reference</td>\n",
              "      <td>0.000041</td>\n",
              "    </tr>\n",
              "    <tr>\n",
              "      <th>26</th>\n",
              "      <td>Primary Genre_Shopping</td>\n",
              "      <td>0.000000</td>\n",
              "    </tr>\n",
              "    <tr>\n",
              "      <th>27</th>\n",
              "      <td>Primary Genre_Social Networking</td>\n",
              "      <td>0.000000</td>\n",
              "    </tr>\n",
              "    <tr>\n",
              "      <th>28</th>\n",
              "      <td>Primary Genre_Sports</td>\n",
              "      <td>0.000003</td>\n",
              "    </tr>\n",
              "    <tr>\n",
              "      <th>29</th>\n",
              "      <td>Primary Genre_Stickers</td>\n",
              "      <td>0.000000</td>\n",
              "    </tr>\n",
              "    <tr>\n",
              "      <th>30</th>\n",
              "      <td>Primary Genre_Travel</td>\n",
              "      <td>0.000000</td>\n",
              "    </tr>\n",
              "    <tr>\n",
              "      <th>31</th>\n",
              "      <td>Primary Genre_Utilities</td>\n",
              "      <td>0.000084</td>\n",
              "    </tr>\n",
              "  </tbody>\n",
              "</table>\n",
              "</div>\n",
              "      <button class=\"colab-df-convert\" onclick=\"convertToInteractive('df-61de5133-838c-4ad4-8fbb-2017c6505dbc')\"\n",
              "              title=\"Convert this dataframe to an interactive table.\"\n",
              "              style=\"display:none;\">\n",
              "        \n",
              "  <svg xmlns=\"http://www.w3.org/2000/svg\" height=\"24px\"viewBox=\"0 0 24 24\"\n",
              "       width=\"24px\">\n",
              "    <path d=\"M0 0h24v24H0V0z\" fill=\"none\"/>\n",
              "    <path d=\"M18.56 5.44l.94 2.06.94-2.06 2.06-.94-2.06-.94-.94-2.06-.94 2.06-2.06.94zm-11 1L8.5 8.5l.94-2.06 2.06-.94-2.06-.94L8.5 2.5l-.94 2.06-2.06.94zm10 10l.94 2.06.94-2.06 2.06-.94-2.06-.94-.94-2.06-.94 2.06-2.06.94z\"/><path d=\"M17.41 7.96l-1.37-1.37c-.4-.4-.92-.59-1.43-.59-.52 0-1.04.2-1.43.59L10.3 9.45l-7.72 7.72c-.78.78-.78 2.05 0 2.83L4 21.41c.39.39.9.59 1.41.59.51 0 1.02-.2 1.41-.59l7.78-7.78 2.81-2.81c.8-.78.8-2.07 0-2.86zM5.41 20L4 18.59l7.72-7.72 1.47 1.35L5.41 20z\"/>\n",
              "  </svg>\n",
              "      </button>\n",
              "      \n",
              "  <style>\n",
              "    .colab-df-container {\n",
              "      display:flex;\n",
              "      flex-wrap:wrap;\n",
              "      gap: 12px;\n",
              "    }\n",
              "\n",
              "    .colab-df-convert {\n",
              "      background-color: #E8F0FE;\n",
              "      border: none;\n",
              "      border-radius: 50%;\n",
              "      cursor: pointer;\n",
              "      display: none;\n",
              "      fill: #1967D2;\n",
              "      height: 32px;\n",
              "      padding: 0 0 0 0;\n",
              "      width: 32px;\n",
              "    }\n",
              "\n",
              "    .colab-df-convert:hover {\n",
              "      background-color: #E2EBFA;\n",
              "      box-shadow: 0px 1px 2px rgba(60, 64, 67, 0.3), 0px 1px 3px 1px rgba(60, 64, 67, 0.15);\n",
              "      fill: #174EA6;\n",
              "    }\n",
              "\n",
              "    [theme=dark] .colab-df-convert {\n",
              "      background-color: #3B4455;\n",
              "      fill: #D2E3FC;\n",
              "    }\n",
              "\n",
              "    [theme=dark] .colab-df-convert:hover {\n",
              "      background-color: #434B5C;\n",
              "      box-shadow: 0px 1px 3px 1px rgba(0, 0, 0, 0.15);\n",
              "      filter: drop-shadow(0px 1px 2px rgba(0, 0, 0, 0.3));\n",
              "      fill: #FFFFFF;\n",
              "    }\n",
              "  </style>\n",
              "\n",
              "      <script>\n",
              "        const buttonEl =\n",
              "          document.querySelector('#df-61de5133-838c-4ad4-8fbb-2017c6505dbc button.colab-df-convert');\n",
              "        buttonEl.style.display =\n",
              "          google.colab.kernel.accessAllowed ? 'block' : 'none';\n",
              "\n",
              "        async function convertToInteractive(key) {\n",
              "          const element = document.querySelector('#df-61de5133-838c-4ad4-8fbb-2017c6505dbc');\n",
              "          const dataTable =\n",
              "            await google.colab.kernel.invokeFunction('convertToInteractive',\n",
              "                                                     [key], {});\n",
              "          if (!dataTable) return;\n",
              "\n",
              "          const docLinkHtml = 'Like what you see? Visit the ' +\n",
              "            '<a target=\"_blank\" href=https://colab.research.google.com/notebooks/data_table.ipynb>data table notebook</a>'\n",
              "            + ' to learn more about interactive tables.';\n",
              "          element.innerHTML = '';\n",
              "          dataTable['output_type'] = 'display_data';\n",
              "          await google.colab.output.renderOutput(dataTable, element);\n",
              "          const docLink = document.createElement('div');\n",
              "          docLink.innerHTML = docLinkHtml;\n",
              "          element.appendChild(docLink);\n",
              "        }\n",
              "      </script>\n",
              "    </div>\n",
              "  </div>\n",
              "  "
            ]
          },
          "metadata": {},
          "execution_count": 303
        }
      ],
      "source": [
        "coeff_df = pd.concat([w,v], axis=1, join = 'inner')\n",
        "coeff_df"
      ]
    },
    {
      "cell_type": "markdown",
      "source": [
        "Based on the Decision Tree Regression results, it appears that the variable with the most significant impact on the app's rating is the `User Rating Count` with coefficient 0.954512 that is nearly 1 or 100% it suggests that this variable is highly influential in determining the target variable `Average User Rating`. The high coefficient indicates that `User Rating Count` plays a significant role and is a crucial factor in accurately predicting the app's rating. `User Rating Count` itself indicates the number of users who have already rated the app."
      ],
      "metadata": {
        "id": "1l3rV5qAlp1h"
      }
    },
    {
      "cell_type": "markdown",
      "metadata": {
        "id": "udGL1HN8rUK6"
      },
      "source": [
        "##6. How do microtransactions affect rating?\n",
        "\n",
        "\n",
        "> [Microtransactions](https://en.wikipedia.org/wiki/Microtransaction) are a business model where users can purchase virtual goods with micropayments, most commonly provided through a custom store interface placed inside the app for which the items are being sold.\n",
        "\n",
        "To determine the impact of microtransactions on ratings, the first step is to ensure that the data for \"Average User Rating\" and \"In-app Purchases\" is converted to a float data type."
      ]
    },
    {
      "cell_type": "code",
      "execution_count": null,
      "metadata": {
        "id": "EAOCC04CrUK6"
      },
      "outputs": [],
      "source": [
        "df['Average User Rating'] = [float(i) for i in df['Average User Rating']]\n",
        "df['In-app Purchases'] = [float(i) for i in df['In-app Purchases']]"
      ]
    },
    {
      "cell_type": "markdown",
      "source": [
        " \n",
        "We create a scatter plot to visualize the relationship between `Average User Rating` and `In-app Purchases`."
      ],
      "metadata": {
        "id": "-F_2vAMfKBvy"
      }
    },
    {
      "cell_type": "code",
      "execution_count": null,
      "metadata": {
        "colab": {
          "base_uri": "https://localhost:8080/",
          "height": 449
        },
        "id": "QBCKAdenrUK6",
        "outputId": "08150a53-895e-42c0-c10f-929ac4b8e281"
      },
      "outputs": [
        {
          "output_type": "display_data",
          "data": {
            "text/plain": [
              "<Figure size 640x480 with 1 Axes>"
            ],
            "image/png": "[encoded data removed]"
          },
          "metadata": {}
        }
      ],
      "source": [
        "sns.scatterplot(x = \"Average User Rating\", y = 'In-app Purchases',data = df)\n",
        "# Show the plot\n",
        "plt.show()"
      ]
    },
    {
      "cell_type": "markdown",
      "source": [
        "We filter the application that contains a microtransaction and assign it to the variable `df_micro`. We assign the applications that do not have a microtransaction to the variable `df_free`."
      ],
      "metadata": {
        "id": "eeDquWUeM31_"
      }
    },
    {
      "cell_type": "code",
      "execution_count": null,
      "metadata": {
        "id": "hV97TmKsrUK7"
      },
      "outputs": [],
      "source": [
        "df_micro = df[(df.Price != 0.) & (df['Average User Rating'] !=0)]\n",
        "df_free = df[(df.Price == 0.) & (df['Average User Rating'] !=0)]"
      ]
    },
    {
      "cell_type": "markdown",
      "source": [
        "\n",
        "We calculate the average rating of the applications that contain microtransactions"
      ],
      "metadata": {
        "id": "Ly49VJ_9PNVk"
      }
    },
    {
      "cell_type": "code",
      "execution_count": null,
      "metadata": {
        "colab": {
          "base_uri": "https://localhost:8080/"
        },
        "id": "IgwizQZirUK7",
        "outputId": "199c5180-523c-41ae-ee4a-0829255c7152"
      },
      "outputs": [
        {
          "output_type": "execute_result",
          "data": {
            "text/plain": [
              "4.008613617719442"
            ]
          },
          "metadata": {},
          "execution_count": 307
        }
      ],
      "source": [
        "df_micro['Average User Rating'].mean()"
      ]
    },
    {
      "cell_type": "markdown",
      "source": [
        "\n",
        "We calculate the average rating of the applications that do not contain microtransactions"
      ],
      "metadata": {
        "id": "gP2MztfSPVm8"
      }
    },
    {
      "cell_type": "code",
      "execution_count": null,
      "metadata": {
        "colab": {
          "base_uri": "https://localhost:8080/"
        },
        "id": "Ijq2onL4rUK7",
        "outputId": "e1eff8ef-0047-4044-aa14-2cfad7a9c3d6"
      },
      "outputs": [
        {
          "output_type": "execute_result",
          "data": {
            "text/plain": [
              "4.072499601212314"
            ]
          },
          "metadata": {},
          "execution_count": 308
        }
      ],
      "source": [
        "df_free['Average User Rating'].mean()"
      ]
    },
    {
      "cell_type": "markdown",
      "source": [
        "We calculate the mean rating of all the applications that have a non-zero rating."
      ],
      "metadata": {
        "id": "QiLSod0YPrlz"
      }
    },
    {
      "cell_type": "code",
      "execution_count": null,
      "metadata": {
        "colab": {
          "base_uri": "https://localhost:8080/"
        },
        "id": "qVvnmLgQrUK7",
        "outputId": "9e9b9749-e86a-4fae-c99d-4f408663c725"
      },
      "outputs": [
        {
          "output_type": "execute_result",
          "data": {
            "text/plain": [
              "4.062099358974359"
            ]
          },
          "metadata": {},
          "execution_count": 309
        }
      ],
      "source": [
        "df['Average User Rating'][df['Average User Rating'] != 0].mean()"
      ]
    },
    {
      "cell_type": "markdown",
      "source": [
        "Based on the analysis above, it is observed that the completely free app has a slightly higher rating than the app with a microtransaction. However, the difference is minimal, with a value of less than 0.1."
      ],
      "metadata": {
        "id": "-1WabRcfP4L7"
      }
    },
    {
      "cell_type": "markdown",
      "metadata": {
        "id": "u_61uKQvrUK8"
      },
      "source": [
        "##7. What variables affect age restrictions?"
      ]
    },
    {
      "cell_type": "markdown",
      "source": [
        "To identify the variables that affect age restrictions, the first step is to examine the unique values of the `Age Rating` variable."
      ],
      "metadata": {
        "id": "9Ee1wpYAQpG9"
      }
    },
    {
      "cell_type": "code",
      "execution_count": null,
      "metadata": {
        "colab": {
          "base_uri": "https://localhost:8080/"
        },
        "id": "TPxXTo60rUK8",
        "outputId": "0913a926-761c-4a7d-ef2f-a848341f91a8"
      },
      "outputs": [
        {
          "output_type": "execute_result",
          "data": {
            "text/plain": [
              "array([ 4,  9, 12, 17])"
            ]
          },
          "metadata": {},
          "execution_count": 310
        }
      ],
      "source": [
        "df['Age Rating'].unique()"
      ]
    },
    {
      "cell_type": "markdown",
      "source": [
        "Next, since the `Age Rating` variable has only four ordered values, we can assign the data to a categorical variable using `pd.Categorical()` function."
      ],
      "metadata": {
        "id": "pGVvUeVYRivv"
      }
    },
    {
      "cell_type": "code",
      "execution_count": null,
      "metadata": {
        "id": "opdRM1fArUK8"
      },
      "outputs": [],
      "source": [
        "df['Age Rating'] = pd.Categorical(df['Age Rating'], categories=[4, 9, 12, 17], ordered=True)"
      ]
    },
    {
      "cell_type": "markdown",
      "source": [
        "We can assign `X` to represent the independent column or feature matrix. To do this, we can drop the unnecessary columns from the dataframe to create `X`."
      ],
      "metadata": {
        "id": "ahPwD-kpRjUG"
      }
    },
    {
      "cell_type": "code",
      "execution_count": null,
      "metadata": {
        "id": "KqW8QgmBrUK8"
      },
      "outputs": [],
      "source": [
        "X = df.drop(['Age Rating','URL','ID','Name','Icon URL','Description','Developer','Genres','Original Release Date','Current Version Release Date','Original release months','Original release years','Latest update years','Latest update months'], axis=1)\n",
        "y = df['Age Rating']"
      ]
    },
    {
      "cell_type": "markdown",
      "source": [
        "To split the data into training and testing sets, we can use the `train_test_split` function."
      ],
      "metadata": {
        "id": "qUySsoDwRjet"
      }
    },
    {
      "cell_type": "code",
      "execution_count": null,
      "metadata": {
        "id": "wIjUhJH0rUK9"
      },
      "outputs": [],
      "source": [
        "X_train, X_test, y_train, y_test = train_test_split(X, y, test_size = 0.3, random_state = 42)"
      ]
    },
    {
      "cell_type": "markdown",
      "source": [
        "We normalize the data using the `MinMaxScaler()` function."
      ],
      "metadata": {
        "id": "KfdD5_M0RjoF"
      }
    },
    {
      "cell_type": "code",
      "execution_count": null,
      "metadata": {
        "id": "_wcjAciwrUK9"
      },
      "outputs": [],
      "source": [
        "scaler = MinMaxScaler()\n",
        "X_train = scaler.fit_transform(X_train)\n",
        "X_test = scaler.transform(X_test)"
      ]
    },
    {
      "cell_type": "markdown",
      "source": [
        "In order to introduce more variations in the modeling process, we have switched from using the `DecisionTreeRegressor` to employing the `RandomForestRegressor` to determine the variables that impact the app rating. "
      ],
      "metadata": {
        "id": "c3Quvf0hRjwC"
      }
    },
    {
      "cell_type": "code",
      "execution_count": null,
      "metadata": {
        "colab": {
          "base_uri": "https://localhost:8080/",
          "height": 985
        },
        "id": "FR0eRperrUK9",
        "outputId": "409297a3-9eb0-4c09-eeb3-e7e53df7a6a5"
      },
      "outputs": [
        {
          "output_type": "stream",
          "name": "stdout",
          "text": [
            "Feature: 0, Score: 0.03338\n",
            "Feature: 1, Score: 0.07703\n",
            "Feature: 2, Score: 0.02870\n",
            "Feature: 3, Score: 0.09290\n",
            "Feature: 4, Score: 0.34506\n",
            "Feature: 5, Score: 0.19149\n",
            "Feature: 6, Score: 0.18817\n",
            "Feature: 7, Score: 0.00834\n",
            "Feature: 8, Score: 0.00777\n",
            "Feature: 9, Score: 0.00197\n",
            "Feature: 10, Score: 0.00176\n",
            "Feature: 11, Score: 0.00071\n",
            "Feature: 12, Score: 0.00006\n",
            "Feature: 13, Score: 0.00346\n",
            "Feature: 14, Score: 0.00392\n",
            "Feature: 15, Score: 0.00057\n",
            "Feature: 16, Score: 0.00000\n",
            "Feature: 17, Score: 0.00395\n",
            "Feature: 18, Score: 0.00000\n",
            "Feature: 19, Score: 0.00040\n",
            "Feature: 20, Score: 0.00000\n",
            "Feature: 21, Score: 0.00082\n",
            "Feature: 22, Score: 0.00000\n",
            "Feature: 23, Score: 0.00083\n",
            "Feature: 24, Score: 0.00001\n",
            "Feature: 25, Score: 0.00191\n",
            "Feature: 26, Score: 0.00000\n",
            "Feature: 27, Score: 0.00055\n",
            "Feature: 28, Score: 0.00514\n",
            "Feature: 29, Score: 0.00009\n",
            "Feature: 30, Score: 0.00037\n",
            "Feature: 31, Score: 0.00063\n"
          ]
        },
        {
          "output_type": "display_data",
          "data": {
            "text/plain": [
              "<Figure size 640x480 with 1 Axes>"
            ],
            "image/png": "[encoded data removed]"
          },
          "metadata": {}
        }
      ],
      "source": [
        "# random forest for feature importance on a classification problem\n",
        "from sklearn.ensemble import RandomForestRegressor\n",
        "# define the model\n",
        "model = RandomForestRegressor()\n",
        "# fit the model\n",
        "model.fit(X_train, y_train)\n",
        "# get importance\n",
        "importance = model.feature_importances_\n",
        "# summarize feature importance\n",
        "for i,v in enumerate(importance):\n",
        " print('Feature: %0d, Score: %.5f' % (i,v))\n",
        "# plot feature importance\n",
        "pyplot.bar([x for x in range(len(importance))], importance)\n",
        "pyplot.show()"
      ]
    },
    {
      "cell_type": "markdown",
      "source": [
        "Lastly, we assign the feature value and column name to a dataframe."
      ],
      "metadata": {
        "id": "vMb0YDvCRlU7"
      }
    },
    {
      "cell_type": "code",
      "execution_count": null,
      "metadata": {
        "id": "zRB3MqjdrUK-"
      },
      "outputs": [],
      "source": [
        "v = pd.DataFrame(importance, columns=['Coefficient'])\n",
        "w = pd.DataFrame(X.columns, columns=['Attribute'])"
      ]
    },
    {
      "cell_type": "code",
      "execution_count": null,
      "metadata": {
        "colab": {
          "base_uri": "https://localhost:8080/",
          "height": 1000
        },
        "id": "UHHdQA-PrUK-",
        "outputId": "b6c32228-71a2-4898-d416-34699795855f"
      },
      "outputs": [
        {
          "output_type": "execute_result",
          "data": {
            "text/plain": [
              "                          Attribute  Coefficient\n",
              "0               Average User Rating     0.033381\n",
              "1                 User Rating Count     0.077032\n",
              "2                             Price     0.028701\n",
              "3                  In-app Purchases     0.092899\n",
              "4                              Size     0.345062\n",
              "5             Original release days     0.191494\n",
              "6                Latest update days     0.188172\n",
              "7             Subtitle_Has Subtitle     0.008344\n",
              "8              Subtitle_No Subtitle     0.007767\n",
              "9                 Languages_English     0.001967\n",
              "10            Languages_Non English     0.001764\n",
              "11               Primary Genre_Book     0.000708\n",
              "12           Primary Genre_Business     0.000061\n",
              "13          Primary Genre_Education     0.003458\n",
              "14      Primary Genre_Entertainment     0.003921\n",
              "15            Primary Genre_Finance     0.000571\n",
              "16       Primary Genre_Food & Drink     0.000000\n",
              "17              Primary Genre_Games     0.003950\n",
              "18   Primary Genre_Health & Fitness     0.000000\n",
              "19          Primary Genre_Lifestyle     0.000398\n",
              "20            Primary Genre_Medical     0.000003\n",
              "21              Primary Genre_Music     0.000819\n",
              "22         Primary Genre_Navigation     0.000000\n",
              "23               Primary Genre_News     0.000825\n",
              "24       Primary Genre_Productivity     0.000007\n",
              "25          Primary Genre_Reference     0.001907\n",
              "26           Primary Genre_Shopping     0.000003\n",
              "27  Primary Genre_Social Networking     0.000554\n",
              "28             Primary Genre_Sports     0.005142\n",
              "29           Primary Genre_Stickers     0.000095\n",
              "30             Primary Genre_Travel     0.000365\n",
              "31          Primary Genre_Utilities     0.000627"
            ],
            "text/html": [
              "\n",
              "  <div id=\"df-255cbee1-5e89-41e9-a6b7-43e88f6a2aed\">\n",
              "    <div class=\"colab-df-container\">\n",
              "      <div>\n",
              "<style scoped>\n",
              "    .dataframe tbody tr th:only-of-type {\n",
              "        vertical-align: middle;\n",
              "    }\n",
              "\n",
              "    .dataframe tbody tr th {\n",
              "        vertical-align: top;\n",
              "    }\n",
              "\n",
              "    .dataframe thead th {\n",
              "        text-align: right;\n",
              "    }\n",
              "</style>\n",
              "<table border=\"1\" class=\"dataframe\">\n",
              "  <thead>\n",
              "    <tr style=\"text-align: right;\">\n",
              "      <th></th>\n",
              "      <th>Attribute</th>\n",
              "      <th>Coefficient</th>\n",
              "    </tr>\n",
              "  </thead>\n",
              "  <tbody>\n",
              "    <tr>\n",
              "      <th>0</th>\n",
              "      <td>Average User Rating</td>\n",
              "      <td>0.033381</td>\n",
              "    </tr>\n",
              "    <tr>\n",
              "      <th>1</th>\n",
              "      <td>User Rating Count</td>\n",
              "      <td>0.077032</td>\n",
              "    </tr>\n",
              "    <tr>\n",
              "      <th>2</th>\n",
              "      <td>Price</td>\n",
              "      <td>0.028701</td>\n",
              "    </tr>\n",
              "    <tr>\n",
              "      <th>3</th>\n",
              "      <td>In-app Purchases</td>\n",
              "      <td>0.092899</td>\n",
              "    </tr>\n",
              "    <tr>\n",
              "      <th>4</th>\n",
              "      <td>Size</td>\n",
              "      <td>0.345062</td>\n",
              "    </tr>\n",
              "    <tr>\n",
              "      <th>5</th>\n",
              "      <td>Original release days</td>\n",
              "      <td>0.191494</td>\n",
              "    </tr>\n",
              "    <tr>\n",
              "      <th>6</th>\n",
              "      <td>Latest update days</td>\n",
              "      <td>0.188172</td>\n",
              "    </tr>\n",
              "    <tr>\n",
              "      <th>7</th>\n",
              "      <td>Subtitle_Has Subtitle</td>\n",
              "      <td>0.008344</td>\n",
              "    </tr>\n",
              "    <tr>\n",
              "      <th>8</th>\n",
              "      <td>Subtitle_No Subtitle</td>\n",
              "      <td>0.007767</td>\n",
              "    </tr>\n",
              "    <tr>\n",
              "      <th>9</th>\n",
              "      <td>Languages_English</td>\n",
              "      <td>0.001967</td>\n",
              "    </tr>\n",
              "    <tr>\n",
              "      <th>10</th>\n",
              "      <td>Languages_Non English</td>\n",
              "      <td>0.001764</td>\n",
              "    </tr>\n",
              "    <tr>\n",
              "      <th>11</th>\n",
              "      <td>Primary Genre_Book</td>\n",
              "      <td>0.000708</td>\n",
              "    </tr>\n",
              "    <tr>\n",
              "      <th>12</th>\n",
              "      <td>Primary Genre_Business</td>\n",
              "      <td>0.000061</td>\n",
              "    </tr>\n",
              "    <tr>\n",
              "      <th>13</th>\n",
              "      <td>Primary Genre_Education</td>\n",
              "      <td>0.003458</td>\n",
              "    </tr>\n",
              "    <tr>\n",
              "      <th>14</th>\n",
              "      <td>Primary Genre_Entertainment</td>\n",
              "      <td>0.003921</td>\n",
              "    </tr>\n",
              "    <tr>\n",
              "      <th>15</th>\n",
              "      <td>Primary Genre_Finance</td>\n",
              "      <td>0.000571</td>\n",
              "    </tr>\n",
              "    <tr>\n",
              "      <th>16</th>\n",
              "      <td>Primary Genre_Food &amp; Drink</td>\n",
              "      <td>0.000000</td>\n",
              "    </tr>\n",
              "    <tr>\n",
              "      <th>17</th>\n",
              "      <td>Primary Genre_Games</td>\n",
              "      <td>0.003950</td>\n",
              "    </tr>\n",
              "    <tr>\n",
              "      <th>18</th>\n",
              "      <td>Primary Genre_Health &amp; Fitness</td>\n",
              "      <td>0.000000</td>\n",
              "    </tr>\n",
              "    <tr>\n",
              "      <th>19</th>\n",
              "      <td>Primary Genre_Lifestyle</td>\n",
              "      <td>0.000398</td>\n",
              "    </tr>\n",
              "    <tr>\n",
              "      <th>20</th>\n",
              "      <td>Primary Genre_Medical</td>\n",
              "      <td>0.000003</td>\n",
              "    </tr>\n",
              "    <tr>\n",
              "      <th>21</th>\n",
              "      <td>Primary Genre_Music</td>\n",
              "      <td>0.000819</td>\n",
              "    </tr>\n",
              "    <tr>\n",
              "      <th>22</th>\n",
              "      <td>Primary Genre_Navigation</td>\n",
              "      <td>0.000000</td>\n",
              "    </tr>\n",
              "    <tr>\n",
              "      <th>23</th>\n",
              "      <td>Primary Genre_News</td>\n",
              "      <td>0.000825</td>\n",
              "    </tr>\n",
              "    <tr>\n",
              "      <th>24</th>\n",
              "      <td>Primary Genre_Productivity</td>\n",
              "      <td>0.000007</td>\n",
              "    </tr>\n",
              "    <tr>\n",
              "      <th>25</th>\n",
              "      <td>Primary Genre_Reference</td>\n",
              "      <td>0.001907</td>\n",
              "    </tr>\n",
              "    <tr>\n",
              "      <th>26</th>\n",
              "      <td>Primary Genre_Shopping</td>\n",
              "      <td>0.000003</td>\n",
              "    </tr>\n",
              "    <tr>\n",
              "      <th>27</th>\n",
              "      <td>Primary Genre_Social Networking</td>\n",
              "      <td>0.000554</td>\n",
              "    </tr>\n",
              "    <tr>\n",
              "      <th>28</th>\n",
              "      <td>Primary Genre_Sports</td>\n",
              "      <td>0.005142</td>\n",
              "    </tr>\n",
              "    <tr>\n",
              "      <th>29</th>\n",
              "      <td>Primary Genre_Stickers</td>\n",
              "      <td>0.000095</td>\n",
              "    </tr>\n",
              "    <tr>\n",
              "      <th>30</th>\n",
              "      <td>Primary Genre_Travel</td>\n",
              "      <td>0.000365</td>\n",
              "    </tr>\n",
              "    <tr>\n",
              "      <th>31</th>\n",
              "      <td>Primary Genre_Utilities</td>\n",
              "      <td>0.000627</td>\n",
              "    </tr>\n",
              "  </tbody>\n",
              "</table>\n",
              "</div>\n",
              "      <button class=\"colab-df-convert\" onclick=\"convertToInteractive('df-255cbee1-5e89-41e9-a6b7-43e88f6a2aed')\"\n",
              "              title=\"Convert this dataframe to an interactive table.\"\n",
              "              style=\"display:none;\">\n",
              "        \n",
              "  <svg xmlns=\"http://www.w3.org/2000/svg\" height=\"24px\"viewBox=\"0 0 24 24\"\n",
              "       width=\"24px\">\n",
              "    <path d=\"M0 0h24v24H0V0z\" fill=\"none\"/>\n",
              "    <path d=\"M18.56 5.44l.94 2.06.94-2.06 2.06-.94-2.06-.94-.94-2.06-.94 2.06-2.06.94zm-11 1L8.5 8.5l.94-2.06 2.06-.94-2.06-.94L8.5 2.5l-.94 2.06-2.06.94zm10 10l.94 2.06.94-2.06 2.06-.94-2.06-.94-.94-2.06-.94 2.06-2.06.94z\"/><path d=\"M17.41 7.96l-1.37-1.37c-.4-.4-.92-.59-1.43-.59-.52 0-1.04.2-1.43.59L10.3 9.45l-7.72 7.72c-.78.78-.78 2.05 0 2.83L4 21.41c.39.39.9.59 1.41.59.51 0 1.02-.2 1.41-.59l7.78-7.78 2.81-2.81c.8-.78.8-2.07 0-2.86zM5.41 20L4 18.59l7.72-7.72 1.47 1.35L5.41 20z\"/>\n",
              "  </svg>\n",
              "      </button>\n",
              "      \n",
              "  <style>\n",
              "    .colab-df-container {\n",
              "      display:flex;\n",
              "      flex-wrap:wrap;\n",
              "      gap: 12px;\n",
              "    }\n",
              "\n",
              "    .colab-df-convert {\n",
              "      background-color: #E8F0FE;\n",
              "      border: none;\n",
              "      border-radius: 50%;\n",
              "      cursor: pointer;\n",
              "      display: none;\n",
              "      fill: #1967D2;\n",
              "      height: 32px;\n",
              "      padding: 0 0 0 0;\n",
              "      width: 32px;\n",
              "    }\n",
              "\n",
              "    .colab-df-convert:hover {\n",
              "      background-color: #E2EBFA;\n",
              "      box-shadow: 0px 1px 2px rgba(60, 64, 67, 0.3), 0px 1px 3px 1px rgba(60, 64, 67, 0.15);\n",
              "      fill: #174EA6;\n",
              "    }\n",
              "\n",
              "    [theme=dark] .colab-df-convert {\n",
              "      background-color: #3B4455;\n",
              "      fill: #D2E3FC;\n",
              "    }\n",
              "\n",
              "    [theme=dark] .colab-df-convert:hover {\n",
              "      background-color: #434B5C;\n",
              "      box-shadow: 0px 1px 3px 1px rgba(0, 0, 0, 0.15);\n",
              "      filter: drop-shadow(0px 1px 2px rgba(0, 0, 0, 0.3));\n",
              "      fill: #FFFFFF;\n",
              "    }\n",
              "  </style>\n",
              "\n",
              "      <script>\n",
              "        const buttonEl =\n",
              "          document.querySelector('#df-255cbee1-5e89-41e9-a6b7-43e88f6a2aed button.colab-df-convert');\n",
              "        buttonEl.style.display =\n",
              "          google.colab.kernel.accessAllowed ? 'block' : 'none';\n",
              "\n",
              "        async function convertToInteractive(key) {\n",
              "          const element = document.querySelector('#df-255cbee1-5e89-41e9-a6b7-43e88f6a2aed');\n",
              "          const dataTable =\n",
              "            await google.colab.kernel.invokeFunction('convertToInteractive',\n",
              "                                                     [key], {});\n",
              "          if (!dataTable) return;\n",
              "\n",
              "          const docLinkHtml = 'Like what you see? Visit the ' +\n",
              "            '<a target=\"_blank\" href=https://colab.research.google.com/notebooks/data_table.ipynb>data table notebook</a>'\n",
              "            + ' to learn more about interactive tables.';\n",
              "          element.innerHTML = '';\n",
              "          dataTable['output_type'] = 'display_data';\n",
              "          await google.colab.output.renderOutput(dataTable, element);\n",
              "          const docLink = document.createElement('div');\n",
              "          docLink.innerHTML = docLinkHtml;\n",
              "          element.appendChild(docLink);\n",
              "        }\n",
              "      </script>\n",
              "    </div>\n",
              "  </div>\n",
              "  "
            ]
          },
          "metadata": {},
          "execution_count": 317
        }
      ],
      "source": [
        "coeff_df = pd.concat([w,v], axis=1, join = 'inner')\n",
        "coeff_df"
      ]
    },
    {
      "cell_type": "markdown",
      "source": [
        "According to the results from the random forest regression analysis, it is discovered that the variable labeled as `feature 4` specifically the `Size` has the most substantial influence on the app's rating with coefficient 0.346705. This feature represents the storage space occupied by the app. \n",
        "\n",
        "The feature labeled as Size stands out due to its notably higher coefficient compared to other features, as most of the other features have coefficients less than 0.1. This suggests that Size has a relatively stronger influence on the target variable in the regression analysis.\n"
      ],
      "metadata": {
        "id": "UmAK_wHWmqNR"
      }
    },
    {
      "cell_type": "markdown",
      "source": [
        "# Acknowledgements and Recommendations\n",
        "The dataset was uploaded to [Kaggle](https://www.kaggle.com/datasets/tristan581/17k-apple-app-store-strategy-games)\n",
        " by the user [Tristan](https://www.kaggle.com/tristan581) around August 2019.\n",
        "\n",
        "Original data is extracted using the iTunes API and the App Store sitemap.\n",
        "\n",
        "\n",
        "For future analysis, I would recommend conducting a more in-depth investigation into the variables that impact the age rating. Given that Size appears to be influential, it would be worthwhile to explore whether there is a correlation between stricter age ratings and larger app sizes or the presence of multiple features within the app. This deeper analysis can provide valuable insights into the relationship between app characteristics and age restrictions.\n",
        "\n",
        "\n",
        "---\n",
        "\n",
        "\n",
        "# Data License\n",
        "This data is licensed under [Creative Commons Attribution-Universal (CC0 1.0)](https://creativecommons.org/publicdomain/zero/1.0/). I hereby affirm that I do not possess any material nor monetary benefit by doing this project.\n",
        "\n",
        "![image.png](data:image/png;base64,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)"
      ],
      "metadata": {
        "id": "FJBXCGjfVyN8"
      }
    }
  ],
  "metadata": {
    "colab": {
      "provenance": []
    },
    "kernelspec": {
      "display_name": "base",
      "language": "python",
      "name": "python3"
    },
    "language_info": {
      "codemirror_mode": {
        "name": "ipython",
        "version": 3
      },
      "file_extension": ".py",
      "mimetype": "text/x-python",
      "name": "python",
      "nbconvert_exporter": "python",
      "pygments_lexer": "ipython3",
      "version": "3.9.12"
    },
    "vscode": {
      "interpreter": {
        "hash": "59ea9f7d51a46e6e072b3fdbe1601a71f66518511087d7b877bc21a807611040"
      }
    }
  },
  "nbformat": 4,
  "nbformat_minor": 0
}